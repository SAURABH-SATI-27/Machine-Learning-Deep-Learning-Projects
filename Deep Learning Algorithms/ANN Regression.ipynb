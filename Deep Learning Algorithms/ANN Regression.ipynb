{
 "cells": [
  {
   "cell_type": "markdown",
   "metadata": {},
   "source": [
    "### Artificial neural network ANN Regression\n"
   ]
  },
  {
   "cell_type": "code",
   "execution_count": 1,
   "metadata": {},
   "outputs": [],
   "source": [
    "import pandas as pd\n",
    "import numpy as np\n",
    "import matplotlib.pyplot as plt\n",
    "import seaborn as sns"
   ]
  },
  {
   "cell_type": "code",
   "execution_count": null,
   "metadata": {},
   "outputs": [],
   "source": []
  },
  {
   "cell_type": "code",
   "execution_count": 2,
   "metadata": {},
   "outputs": [],
   "source": [
    "df = pd.read_csv('kc_house_data.csv')"
   ]
  },
  {
   "cell_type": "code",
   "execution_count": 17,
   "metadata": {},
   "outputs": [
    {
     "data": {
      "text/html": [
       "<div>\n",
       "<style scoped>\n",
       "    .dataframe tbody tr th:only-of-type {\n",
       "        vertical-align: middle;\n",
       "    }\n",
       "\n",
       "    .dataframe tbody tr th {\n",
       "        vertical-align: top;\n",
       "    }\n",
       "\n",
       "    .dataframe thead th {\n",
       "        text-align: right;\n",
       "    }\n",
       "</style>\n",
       "<table border=\"1\" class=\"dataframe\">\n",
       "  <thead>\n",
       "    <tr style=\"text-align: right;\">\n",
       "      <th></th>\n",
       "      <th>id</th>\n",
       "      <th>date</th>\n",
       "      <th>price</th>\n",
       "      <th>bedrooms</th>\n",
       "      <th>bathrooms</th>\n",
       "      <th>sqft_living</th>\n",
       "      <th>sqft_lot</th>\n",
       "      <th>floors</th>\n",
       "      <th>waterfront</th>\n",
       "      <th>view</th>\n",
       "      <th>...</th>\n",
       "      <th>grade</th>\n",
       "      <th>sqft_above</th>\n",
       "      <th>sqft_basement</th>\n",
       "      <th>yr_built</th>\n",
       "      <th>yr_renovated</th>\n",
       "      <th>zipcode</th>\n",
       "      <th>lat</th>\n",
       "      <th>long</th>\n",
       "      <th>sqft_living15</th>\n",
       "      <th>sqft_lot15</th>\n",
       "    </tr>\n",
       "  </thead>\n",
       "  <tbody>\n",
       "    <tr>\n",
       "      <th>0</th>\n",
       "      <td>7129300520</td>\n",
       "      <td>10/13/2014</td>\n",
       "      <td>221900.0</td>\n",
       "      <td>3</td>\n",
       "      <td>1.00</td>\n",
       "      <td>1180</td>\n",
       "      <td>5650</td>\n",
       "      <td>1.0</td>\n",
       "      <td>0</td>\n",
       "      <td>0</td>\n",
       "      <td>...</td>\n",
       "      <td>7</td>\n",
       "      <td>1180</td>\n",
       "      <td>0</td>\n",
       "      <td>1955</td>\n",
       "      <td>0</td>\n",
       "      <td>98178</td>\n",
       "      <td>47.5112</td>\n",
       "      <td>-122.257</td>\n",
       "      <td>1340</td>\n",
       "      <td>5650</td>\n",
       "    </tr>\n",
       "    <tr>\n",
       "      <th>1</th>\n",
       "      <td>6414100192</td>\n",
       "      <td>12/9/2014</td>\n",
       "      <td>538000.0</td>\n",
       "      <td>3</td>\n",
       "      <td>2.25</td>\n",
       "      <td>2570</td>\n",
       "      <td>7242</td>\n",
       "      <td>2.0</td>\n",
       "      <td>0</td>\n",
       "      <td>0</td>\n",
       "      <td>...</td>\n",
       "      <td>7</td>\n",
       "      <td>2170</td>\n",
       "      <td>400</td>\n",
       "      <td>1951</td>\n",
       "      <td>1991</td>\n",
       "      <td>98125</td>\n",
       "      <td>47.7210</td>\n",
       "      <td>-122.319</td>\n",
       "      <td>1690</td>\n",
       "      <td>7639</td>\n",
       "    </tr>\n",
       "    <tr>\n",
       "      <th>2</th>\n",
       "      <td>5631500400</td>\n",
       "      <td>2/25/2015</td>\n",
       "      <td>180000.0</td>\n",
       "      <td>2</td>\n",
       "      <td>1.00</td>\n",
       "      <td>770</td>\n",
       "      <td>10000</td>\n",
       "      <td>1.0</td>\n",
       "      <td>0</td>\n",
       "      <td>0</td>\n",
       "      <td>...</td>\n",
       "      <td>6</td>\n",
       "      <td>770</td>\n",
       "      <td>0</td>\n",
       "      <td>1933</td>\n",
       "      <td>0</td>\n",
       "      <td>98028</td>\n",
       "      <td>47.7379</td>\n",
       "      <td>-122.233</td>\n",
       "      <td>2720</td>\n",
       "      <td>8062</td>\n",
       "    </tr>\n",
       "    <tr>\n",
       "      <th>3</th>\n",
       "      <td>2487200875</td>\n",
       "      <td>12/9/2014</td>\n",
       "      <td>604000.0</td>\n",
       "      <td>4</td>\n",
       "      <td>3.00</td>\n",
       "      <td>1960</td>\n",
       "      <td>5000</td>\n",
       "      <td>1.0</td>\n",
       "      <td>0</td>\n",
       "      <td>0</td>\n",
       "      <td>...</td>\n",
       "      <td>7</td>\n",
       "      <td>1050</td>\n",
       "      <td>910</td>\n",
       "      <td>1965</td>\n",
       "      <td>0</td>\n",
       "      <td>98136</td>\n",
       "      <td>47.5208</td>\n",
       "      <td>-122.393</td>\n",
       "      <td>1360</td>\n",
       "      <td>5000</td>\n",
       "    </tr>\n",
       "    <tr>\n",
       "      <th>4</th>\n",
       "      <td>1954400510</td>\n",
       "      <td>2/18/2015</td>\n",
       "      <td>510000.0</td>\n",
       "      <td>3</td>\n",
       "      <td>2.00</td>\n",
       "      <td>1680</td>\n",
       "      <td>8080</td>\n",
       "      <td>1.0</td>\n",
       "      <td>0</td>\n",
       "      <td>0</td>\n",
       "      <td>...</td>\n",
       "      <td>8</td>\n",
       "      <td>1680</td>\n",
       "      <td>0</td>\n",
       "      <td>1987</td>\n",
       "      <td>0</td>\n",
       "      <td>98074</td>\n",
       "      <td>47.6168</td>\n",
       "      <td>-122.045</td>\n",
       "      <td>1800</td>\n",
       "      <td>7503</td>\n",
       "    </tr>\n",
       "  </tbody>\n",
       "</table>\n",
       "<p>5 rows × 21 columns</p>\n",
       "</div>"
      ],
      "text/plain": [
       "           id        date     price  bedrooms  bathrooms  sqft_living  \\\n",
       "0  7129300520  10/13/2014  221900.0         3       1.00         1180   \n",
       "1  6414100192   12/9/2014  538000.0         3       2.25         2570   \n",
       "2  5631500400   2/25/2015  180000.0         2       1.00          770   \n",
       "3  2487200875   12/9/2014  604000.0         4       3.00         1960   \n",
       "4  1954400510   2/18/2015  510000.0         3       2.00         1680   \n",
       "\n",
       "   sqft_lot  floors  waterfront  view  ...  grade  sqft_above  sqft_basement  \\\n",
       "0      5650     1.0           0     0  ...      7        1180              0   \n",
       "1      7242     2.0           0     0  ...      7        2170            400   \n",
       "2     10000     1.0           0     0  ...      6         770              0   \n",
       "3      5000     1.0           0     0  ...      7        1050            910   \n",
       "4      8080     1.0           0     0  ...      8        1680              0   \n",
       "\n",
       "   yr_built  yr_renovated  zipcode      lat     long  sqft_living15  \\\n",
       "0      1955             0    98178  47.5112 -122.257           1340   \n",
       "1      1951          1991    98125  47.7210 -122.319           1690   \n",
       "2      1933             0    98028  47.7379 -122.233           2720   \n",
       "3      1965             0    98136  47.5208 -122.393           1360   \n",
       "4      1987             0    98074  47.6168 -122.045           1800   \n",
       "\n",
       "   sqft_lot15  \n",
       "0        5650  \n",
       "1        7639  \n",
       "2        8062  \n",
       "3        5000  \n",
       "4        7503  \n",
       "\n",
       "[5 rows x 21 columns]"
      ]
     },
     "execution_count": 17,
     "metadata": {},
     "output_type": "execute_result"
    }
   ],
   "source": [
    "df.head()"
   ]
  },
  {
   "cell_type": "code",
   "execution_count": 18,
   "metadata": {},
   "outputs": [
    {
     "name": "stdout",
     "output_type": "stream",
     "text": [
      "<class 'pandas.core.frame.DataFrame'>\n",
      "RangeIndex: 21597 entries, 0 to 21596\n",
      "Data columns (total 21 columns):\n",
      "id               21597 non-null int64\n",
      "date             21597 non-null object\n",
      "price            21597 non-null float64\n",
      "bedrooms         21597 non-null int64\n",
      "bathrooms        21597 non-null float64\n",
      "sqft_living      21597 non-null int64\n",
      "sqft_lot         21597 non-null int64\n",
      "floors           21597 non-null float64\n",
      "waterfront       21597 non-null int64\n",
      "view             21597 non-null int64\n",
      "condition        21597 non-null int64\n",
      "grade            21597 non-null int64\n",
      "sqft_above       21597 non-null int64\n",
      "sqft_basement    21597 non-null int64\n",
      "yr_built         21597 non-null int64\n",
      "yr_renovated     21597 non-null int64\n",
      "zipcode          21597 non-null int64\n",
      "lat              21597 non-null float64\n",
      "long             21597 non-null float64\n",
      "sqft_living15    21597 non-null int64\n",
      "sqft_lot15       21597 non-null int64\n",
      "dtypes: float64(5), int64(15), object(1)\n",
      "memory usage: 3.5+ MB\n"
     ]
    }
   ],
   "source": [
    "df.info()"
   ]
  },
  {
   "cell_type": "code",
   "execution_count": 19,
   "metadata": {},
   "outputs": [],
   "source": [
    "df = df.drop('id',axis=1)"
   ]
  },
  {
   "cell_type": "code",
   "execution_count": 20,
   "metadata": {},
   "outputs": [
    {
     "data": {
      "text/html": [
       "<div>\n",
       "<style scoped>\n",
       "    .dataframe tbody tr th:only-of-type {\n",
       "        vertical-align: middle;\n",
       "    }\n",
       "\n",
       "    .dataframe tbody tr th {\n",
       "        vertical-align: top;\n",
       "    }\n",
       "\n",
       "    .dataframe thead th {\n",
       "        text-align: right;\n",
       "    }\n",
       "</style>\n",
       "<table border=\"1\" class=\"dataframe\">\n",
       "  <thead>\n",
       "    <tr style=\"text-align: right;\">\n",
       "      <th></th>\n",
       "      <th>date</th>\n",
       "      <th>price</th>\n",
       "      <th>bedrooms</th>\n",
       "      <th>bathrooms</th>\n",
       "      <th>sqft_living</th>\n",
       "      <th>sqft_lot</th>\n",
       "      <th>floors</th>\n",
       "      <th>waterfront</th>\n",
       "      <th>view</th>\n",
       "      <th>condition</th>\n",
       "      <th>grade</th>\n",
       "      <th>sqft_above</th>\n",
       "      <th>sqft_basement</th>\n",
       "      <th>yr_built</th>\n",
       "      <th>yr_renovated</th>\n",
       "      <th>zipcode</th>\n",
       "      <th>lat</th>\n",
       "      <th>long</th>\n",
       "      <th>sqft_living15</th>\n",
       "      <th>sqft_lot15</th>\n",
       "    </tr>\n",
       "  </thead>\n",
       "  <tbody>\n",
       "    <tr>\n",
       "      <th>0</th>\n",
       "      <td>10/13/2014</td>\n",
       "      <td>221900.0</td>\n",
       "      <td>3</td>\n",
       "      <td>1.00</td>\n",
       "      <td>1180</td>\n",
       "      <td>5650</td>\n",
       "      <td>1.0</td>\n",
       "      <td>0</td>\n",
       "      <td>0</td>\n",
       "      <td>3</td>\n",
       "      <td>7</td>\n",
       "      <td>1180</td>\n",
       "      <td>0</td>\n",
       "      <td>1955</td>\n",
       "      <td>0</td>\n",
       "      <td>98178</td>\n",
       "      <td>47.5112</td>\n",
       "      <td>-122.257</td>\n",
       "      <td>1340</td>\n",
       "      <td>5650</td>\n",
       "    </tr>\n",
       "    <tr>\n",
       "      <th>1</th>\n",
       "      <td>12/9/2014</td>\n",
       "      <td>538000.0</td>\n",
       "      <td>3</td>\n",
       "      <td>2.25</td>\n",
       "      <td>2570</td>\n",
       "      <td>7242</td>\n",
       "      <td>2.0</td>\n",
       "      <td>0</td>\n",
       "      <td>0</td>\n",
       "      <td>3</td>\n",
       "      <td>7</td>\n",
       "      <td>2170</td>\n",
       "      <td>400</td>\n",
       "      <td>1951</td>\n",
       "      <td>1991</td>\n",
       "      <td>98125</td>\n",
       "      <td>47.7210</td>\n",
       "      <td>-122.319</td>\n",
       "      <td>1690</td>\n",
       "      <td>7639</td>\n",
       "    </tr>\n",
       "    <tr>\n",
       "      <th>2</th>\n",
       "      <td>2/25/2015</td>\n",
       "      <td>180000.0</td>\n",
       "      <td>2</td>\n",
       "      <td>1.00</td>\n",
       "      <td>770</td>\n",
       "      <td>10000</td>\n",
       "      <td>1.0</td>\n",
       "      <td>0</td>\n",
       "      <td>0</td>\n",
       "      <td>3</td>\n",
       "      <td>6</td>\n",
       "      <td>770</td>\n",
       "      <td>0</td>\n",
       "      <td>1933</td>\n",
       "      <td>0</td>\n",
       "      <td>98028</td>\n",
       "      <td>47.7379</td>\n",
       "      <td>-122.233</td>\n",
       "      <td>2720</td>\n",
       "      <td>8062</td>\n",
       "    </tr>\n",
       "    <tr>\n",
       "      <th>3</th>\n",
       "      <td>12/9/2014</td>\n",
       "      <td>604000.0</td>\n",
       "      <td>4</td>\n",
       "      <td>3.00</td>\n",
       "      <td>1960</td>\n",
       "      <td>5000</td>\n",
       "      <td>1.0</td>\n",
       "      <td>0</td>\n",
       "      <td>0</td>\n",
       "      <td>5</td>\n",
       "      <td>7</td>\n",
       "      <td>1050</td>\n",
       "      <td>910</td>\n",
       "      <td>1965</td>\n",
       "      <td>0</td>\n",
       "      <td>98136</td>\n",
       "      <td>47.5208</td>\n",
       "      <td>-122.393</td>\n",
       "      <td>1360</td>\n",
       "      <td>5000</td>\n",
       "    </tr>\n",
       "    <tr>\n",
       "      <th>4</th>\n",
       "      <td>2/18/2015</td>\n",
       "      <td>510000.0</td>\n",
       "      <td>3</td>\n",
       "      <td>2.00</td>\n",
       "      <td>1680</td>\n",
       "      <td>8080</td>\n",
       "      <td>1.0</td>\n",
       "      <td>0</td>\n",
       "      <td>0</td>\n",
       "      <td>3</td>\n",
       "      <td>8</td>\n",
       "      <td>1680</td>\n",
       "      <td>0</td>\n",
       "      <td>1987</td>\n",
       "      <td>0</td>\n",
       "      <td>98074</td>\n",
       "      <td>47.6168</td>\n",
       "      <td>-122.045</td>\n",
       "      <td>1800</td>\n",
       "      <td>7503</td>\n",
       "    </tr>\n",
       "  </tbody>\n",
       "</table>\n",
       "</div>"
      ],
      "text/plain": [
       "         date     price  bedrooms  bathrooms  sqft_living  sqft_lot  floors  \\\n",
       "0  10/13/2014  221900.0         3       1.00         1180      5650     1.0   \n",
       "1   12/9/2014  538000.0         3       2.25         2570      7242     2.0   \n",
       "2   2/25/2015  180000.0         2       1.00          770     10000     1.0   \n",
       "3   12/9/2014  604000.0         4       3.00         1960      5000     1.0   \n",
       "4   2/18/2015  510000.0         3       2.00         1680      8080     1.0   \n",
       "\n",
       "   waterfront  view  condition  grade  sqft_above  sqft_basement  yr_built  \\\n",
       "0           0     0          3      7        1180              0      1955   \n",
       "1           0     0          3      7        2170            400      1951   \n",
       "2           0     0          3      6         770              0      1933   \n",
       "3           0     0          5      7        1050            910      1965   \n",
       "4           0     0          3      8        1680              0      1987   \n",
       "\n",
       "   yr_renovated  zipcode      lat     long  sqft_living15  sqft_lot15  \n",
       "0             0    98178  47.5112 -122.257           1340        5650  \n",
       "1          1991    98125  47.7210 -122.319           1690        7639  \n",
       "2             0    98028  47.7379 -122.233           2720        8062  \n",
       "3             0    98136  47.5208 -122.393           1360        5000  \n",
       "4             0    98074  47.6168 -122.045           1800        7503  "
      ]
     },
     "execution_count": 20,
     "metadata": {},
     "output_type": "execute_result"
    }
   ],
   "source": [
    "df.head()"
   ]
  },
  {
   "cell_type": "markdown",
   "metadata": {},
   "source": [
    "### Feature Engineering from Date"
   ]
  },
  {
   "cell_type": "code",
   "execution_count": 21,
   "metadata": {},
   "outputs": [],
   "source": [
    "df['date'] = pd.to_datetime(df['date'])"
   ]
  },
  {
   "cell_type": "code",
   "execution_count": 22,
   "metadata": {},
   "outputs": [],
   "source": [
    "df['month'] = df['date'].apply(lambda date:date.month)"
   ]
  },
  {
   "cell_type": "code",
   "execution_count": 23,
   "metadata": {},
   "outputs": [],
   "source": [
    "df['year'] = df['date'].apply(lambda date:date.year)"
   ]
  },
  {
   "cell_type": "code",
   "execution_count": 24,
   "metadata": {},
   "outputs": [
    {
     "data": {
      "text/plain": [
       "<matplotlib.axes._subplots.AxesSubplot at 0x26e59114848>"
      ]
     },
     "execution_count": 24,
     "metadata": {},
     "output_type": "execute_result"
    },
    {
     "data": {
      "image/png": "[encoded data removed]",
      "text/plain": [
       "<Figure size 432x288 with 1 Axes>"
      ]
     },
     "metadata": {
      "needs_background": "light"
     },
     "output_type": "display_data"
    }
   ],
   "source": [
    "sns.boxplot(x='year',y='price',data=df)"
   ]
  },
  {
   "cell_type": "code",
   "execution_count": 25,
   "metadata": {},
   "outputs": [
    {
     "data": {
      "text/plain": [
       "<matplotlib.axes._subplots.AxesSubplot at 0x26e593b1f48>"
      ]
     },
     "execution_count": 25,
     "metadata": {},
     "output_type": "execute_result"
    },
    {
     "data": {
      "image/png": "[encoded data removed]",
      "text/plain": [
       "<Figure size 432x288 with 1 Axes>"
      ]
     },
     "metadata": {
      "needs_background": "light"
     },
     "output_type": "display_data"
    }
   ],
   "source": [
    "sns.boxplot(x='month',y='price',data=df)"
   ]
  },
  {
   "cell_type": "code",
   "execution_count": 26,
   "metadata": {},
   "outputs": [
    {
     "data": {
      "text/plain": [
       "<matplotlib.axes._subplots.AxesSubplot at 0x26e593bbc48>"
      ]
     },
     "execution_count": 26,
     "metadata": {},
     "output_type": "execute_result"
    },
    {
     "data": {
      "image/png": "[encoded data removed]",
      "text/plain": [
       "<Figure size 432x288 with 1 Axes>"
      ]
     },
     "metadata": {
      "needs_background": "light"
     },
     "output_type": "display_data"
    }
   ],
   "source": [
    "df.groupby('month').mean()['price'].plot()"
   ]
  },
  {
   "cell_type": "code",
   "execution_count": 27,
   "metadata": {},
   "outputs": [
    {
     "data": {
      "text/plain": [
       "<matplotlib.axes._subplots.AxesSubplot at 0x26e5959ed48>"
      ]
     },
     "execution_count": 27,
     "metadata": {},
     "output_type": "execute_result"
    },
    {
     "data": {
      "image/png": "[encoded data removed]",
      "text/plain": [
       "<Figure size 432x288 with 1 Axes>"
      ]
     },
     "metadata": {
      "needs_background": "light"
     },
     "output_type": "display_data"
    }
   ],
   "source": [
    "df.groupby('year').mean()['price'].plot()"
   ]
  },
  {
   "cell_type": "code",
   "execution_count": 28,
   "metadata": {},
   "outputs": [],
   "source": [
    "df = df.drop('date',axis=1)"
   ]
  },
  {
   "cell_type": "code",
   "execution_count": 29,
   "metadata": {},
   "outputs": [
    {
     "data": {
      "text/plain": [
       "Index(['price', 'bedrooms', 'bathrooms', 'sqft_living', 'sqft_lot', 'floors',\n",
       "       'waterfront', 'view', 'condition', 'grade', 'sqft_above',\n",
       "       'sqft_basement', 'yr_built', 'yr_renovated', 'zipcode', 'lat', 'long',\n",
       "       'sqft_living15', 'sqft_lot15', 'month', 'year'],\n",
       "      dtype='object')"
      ]
     },
     "execution_count": 29,
     "metadata": {},
     "output_type": "execute_result"
    }
   ],
   "source": [
    "df.columns"
   ]
  },
  {
   "cell_type": "code",
   "execution_count": 30,
   "metadata": {},
   "outputs": [
    {
     "data": {
      "text/plain": [
       "98103    602\n",
       "98038    589\n",
       "98115    583\n",
       "98052    574\n",
       "98117    553\n",
       "        ... \n",
       "98102    104\n",
       "98010    100\n",
       "98024     80\n",
       "98148     57\n",
       "98039     50\n",
       "Name: zipcode, Length: 70, dtype: int64"
      ]
     },
     "execution_count": 30,
     "metadata": {},
     "output_type": "execute_result"
    }
   ],
   "source": [
    "df['zipcode'].value_counts()"
   ]
  },
  {
   "cell_type": "code",
   "execution_count": 31,
   "metadata": {},
   "outputs": [],
   "source": [
    "df = df.drop('zipcode',axis=1)"
   ]
  },
  {
   "cell_type": "code",
   "execution_count": 32,
   "metadata": {},
   "outputs": [
    {
     "data": {
      "text/html": [
       "<div>\n",
       "<style scoped>\n",
       "    .dataframe tbody tr th:only-of-type {\n",
       "        vertical-align: middle;\n",
       "    }\n",
       "\n",
       "    .dataframe tbody tr th {\n",
       "        vertical-align: top;\n",
       "    }\n",
       "\n",
       "    .dataframe thead th {\n",
       "        text-align: right;\n",
       "    }\n",
       "</style>\n",
       "<table border=\"1\" class=\"dataframe\">\n",
       "  <thead>\n",
       "    <tr style=\"text-align: right;\">\n",
       "      <th></th>\n",
       "      <th>price</th>\n",
       "      <th>bedrooms</th>\n",
       "      <th>bathrooms</th>\n",
       "      <th>sqft_living</th>\n",
       "      <th>sqft_lot</th>\n",
       "      <th>floors</th>\n",
       "      <th>waterfront</th>\n",
       "      <th>view</th>\n",
       "      <th>condition</th>\n",
       "      <th>grade</th>\n",
       "      <th>sqft_above</th>\n",
       "      <th>sqft_basement</th>\n",
       "      <th>yr_built</th>\n",
       "      <th>yr_renovated</th>\n",
       "      <th>lat</th>\n",
       "      <th>long</th>\n",
       "      <th>sqft_living15</th>\n",
       "      <th>sqft_lot15</th>\n",
       "      <th>month</th>\n",
       "      <th>year</th>\n",
       "    </tr>\n",
       "  </thead>\n",
       "  <tbody>\n",
       "    <tr>\n",
       "      <th>0</th>\n",
       "      <td>221900.0</td>\n",
       "      <td>3</td>\n",
       "      <td>1.00</td>\n",
       "      <td>1180</td>\n",
       "      <td>5650</td>\n",
       "      <td>1.0</td>\n",
       "      <td>0</td>\n",
       "      <td>0</td>\n",
       "      <td>3</td>\n",
       "      <td>7</td>\n",
       "      <td>1180</td>\n",
       "      <td>0</td>\n",
       "      <td>1955</td>\n",
       "      <td>0</td>\n",
       "      <td>47.5112</td>\n",
       "      <td>-122.257</td>\n",
       "      <td>1340</td>\n",
       "      <td>5650</td>\n",
       "      <td>10</td>\n",
       "      <td>2014</td>\n",
       "    </tr>\n",
       "    <tr>\n",
       "      <th>1</th>\n",
       "      <td>538000.0</td>\n",
       "      <td>3</td>\n",
       "      <td>2.25</td>\n",
       "      <td>2570</td>\n",
       "      <td>7242</td>\n",
       "      <td>2.0</td>\n",
       "      <td>0</td>\n",
       "      <td>0</td>\n",
       "      <td>3</td>\n",
       "      <td>7</td>\n",
       "      <td>2170</td>\n",
       "      <td>400</td>\n",
       "      <td>1951</td>\n",
       "      <td>1991</td>\n",
       "      <td>47.7210</td>\n",
       "      <td>-122.319</td>\n",
       "      <td>1690</td>\n",
       "      <td>7639</td>\n",
       "      <td>12</td>\n",
       "      <td>2014</td>\n",
       "    </tr>\n",
       "    <tr>\n",
       "      <th>2</th>\n",
       "      <td>180000.0</td>\n",
       "      <td>2</td>\n",
       "      <td>1.00</td>\n",
       "      <td>770</td>\n",
       "      <td>10000</td>\n",
       "      <td>1.0</td>\n",
       "      <td>0</td>\n",
       "      <td>0</td>\n",
       "      <td>3</td>\n",
       "      <td>6</td>\n",
       "      <td>770</td>\n",
       "      <td>0</td>\n",
       "      <td>1933</td>\n",
       "      <td>0</td>\n",
       "      <td>47.7379</td>\n",
       "      <td>-122.233</td>\n",
       "      <td>2720</td>\n",
       "      <td>8062</td>\n",
       "      <td>2</td>\n",
       "      <td>2015</td>\n",
       "    </tr>\n",
       "    <tr>\n",
       "      <th>3</th>\n",
       "      <td>604000.0</td>\n",
       "      <td>4</td>\n",
       "      <td>3.00</td>\n",
       "      <td>1960</td>\n",
       "      <td>5000</td>\n",
       "      <td>1.0</td>\n",
       "      <td>0</td>\n",
       "      <td>0</td>\n",
       "      <td>5</td>\n",
       "      <td>7</td>\n",
       "      <td>1050</td>\n",
       "      <td>910</td>\n",
       "      <td>1965</td>\n",
       "      <td>0</td>\n",
       "      <td>47.5208</td>\n",
       "      <td>-122.393</td>\n",
       "      <td>1360</td>\n",
       "      <td>5000</td>\n",
       "      <td>12</td>\n",
       "      <td>2014</td>\n",
       "    </tr>\n",
       "    <tr>\n",
       "      <th>4</th>\n",
       "      <td>510000.0</td>\n",
       "      <td>3</td>\n",
       "      <td>2.00</td>\n",
       "      <td>1680</td>\n",
       "      <td>8080</td>\n",
       "      <td>1.0</td>\n",
       "      <td>0</td>\n",
       "      <td>0</td>\n",
       "      <td>3</td>\n",
       "      <td>8</td>\n",
       "      <td>1680</td>\n",
       "      <td>0</td>\n",
       "      <td>1987</td>\n",
       "      <td>0</td>\n",
       "      <td>47.6168</td>\n",
       "      <td>-122.045</td>\n",
       "      <td>1800</td>\n",
       "      <td>7503</td>\n",
       "      <td>2</td>\n",
       "      <td>2015</td>\n",
       "    </tr>\n",
       "  </tbody>\n",
       "</table>\n",
       "</div>"
      ],
      "text/plain": [
       "      price  bedrooms  bathrooms  sqft_living  sqft_lot  floors  waterfront  \\\n",
       "0  221900.0         3       1.00         1180      5650     1.0           0   \n",
       "1  538000.0         3       2.25         2570      7242     2.0           0   \n",
       "2  180000.0         2       1.00          770     10000     1.0           0   \n",
       "3  604000.0         4       3.00         1960      5000     1.0           0   \n",
       "4  510000.0         3       2.00         1680      8080     1.0           0   \n",
       "\n",
       "   view  condition  grade  sqft_above  sqft_basement  yr_built  yr_renovated  \\\n",
       "0     0          3      7        1180              0      1955             0   \n",
       "1     0          3      7        2170            400      1951          1991   \n",
       "2     0          3      6         770              0      1933             0   \n",
       "3     0          5      7        1050            910      1965             0   \n",
       "4     0          3      8        1680              0      1987             0   \n",
       "\n",
       "       lat     long  sqft_living15  sqft_lot15  month  year  \n",
       "0  47.5112 -122.257           1340        5650     10  2014  \n",
       "1  47.7210 -122.319           1690        7639     12  2014  \n",
       "2  47.7379 -122.233           2720        8062      2  2015  \n",
       "3  47.5208 -122.393           1360        5000     12  2014  \n",
       "4  47.6168 -122.045           1800        7503      2  2015  "
      ]
     },
     "execution_count": 32,
     "metadata": {},
     "output_type": "execute_result"
    }
   ],
   "source": [
    "df.head()"
   ]
  },
  {
   "cell_type": "code",
   "execution_count": 33,
   "metadata": {},
   "outputs": [
    {
     "data": {
      "text/plain": [
       "0       20683\n",
       "2014       91\n",
       "2013       37\n",
       "2003       36\n",
       "2000       35\n",
       "        ...  \n",
       "1934        1\n",
       "1959        1\n",
       "1951        1\n",
       "1948        1\n",
       "1944        1\n",
       "Name: yr_renovated, Length: 70, dtype: int64"
      ]
     },
     "execution_count": 33,
     "metadata": {},
     "output_type": "execute_result"
    }
   ],
   "source": [
    "df['yr_renovated'].value_counts()"
   ]
  },
  {
   "cell_type": "code",
   "execution_count": 34,
   "metadata": {},
   "outputs": [
    {
     "data": {
      "text/plain": [
       "0       13110\n",
       "600       221\n",
       "700       218\n",
       "500       214\n",
       "800       206\n",
       "        ...  \n",
       "792         1\n",
       "2590        1\n",
       "935         1\n",
       "2390        1\n",
       "248         1\n",
       "Name: sqft_basement, Length: 306, dtype: int64"
      ]
     },
     "execution_count": 34,
     "metadata": {},
     "output_type": "execute_result"
    }
   ],
   "source": [
    "df['sqft_basement'].value_counts()"
   ]
  },
  {
   "cell_type": "markdown",
   "metadata": {},
   "source": [
    "## Scaling and Train Test Split"
   ]
  },
  {
   "cell_type": "code",
   "execution_count": 35,
   "metadata": {},
   "outputs": [],
   "source": [
    "X = df.drop('price',axis=1)\n",
    "y = df['price']"
   ]
  },
  {
   "cell_type": "code",
   "execution_count": 36,
   "metadata": {},
   "outputs": [],
   "source": [
    "from sklearn.model_selection import train_test_split"
   ]
  },
  {
   "cell_type": "code",
   "execution_count": 37,
   "metadata": {},
   "outputs": [],
   "source": [
    "X_train, X_test, y_train, y_test = train_test_split(X,y,test_size=0.3,random_state=101)"
   ]
  },
  {
   "cell_type": "markdown",
   "metadata": {},
   "source": [
    "### Scaling"
   ]
  },
  {
   "cell_type": "code",
   "execution_count": 38,
   "metadata": {},
   "outputs": [],
   "source": [
    "from sklearn.preprocessing import MinMaxScaler"
   ]
  },
  {
   "cell_type": "code",
   "execution_count": 39,
   "metadata": {},
   "outputs": [],
   "source": [
    "scaler = MinMaxScaler()"
   ]
  },
  {
   "cell_type": "code",
   "execution_count": 40,
   "metadata": {},
   "outputs": [],
   "source": [
    "X_train= scaler.fit_transform(X_train)"
   ]
  },
  {
   "cell_type": "code",
   "execution_count": 41,
   "metadata": {},
   "outputs": [],
   "source": [
    "X_test = scaler.transform(X_test)"
   ]
  },
  {
   "cell_type": "code",
   "execution_count": 42,
   "metadata": {},
   "outputs": [
    {
     "data": {
      "text/plain": [
       "(15117, 19)"
      ]
     },
     "execution_count": 42,
     "metadata": {},
     "output_type": "execute_result"
    }
   ],
   "source": [
    "X_train.shape"
   ]
  },
  {
   "cell_type": "code",
   "execution_count": 43,
   "metadata": {},
   "outputs": [
    {
     "data": {
      "text/plain": [
       "(6480, 19)"
      ]
     },
     "execution_count": 43,
     "metadata": {},
     "output_type": "execute_result"
    }
   ],
   "source": [
    "X_test.shape"
   ]
  },
  {
   "cell_type": "markdown",
   "metadata": {},
   "source": [
    "## Creating a Model"
   ]
  },
  {
   "cell_type": "code",
   "execution_count": 44,
   "metadata": {},
   "outputs": [],
   "source": [
    "from tensorflow.keras.models import Sequential\n",
    "from tensorflow.keras.layers import Dense, Activation\n",
    "from tensorflow.keras.optimizers import Adam"
   ]
  },
  {
   "cell_type": "code",
   "execution_count": 45,
   "metadata": {},
   "outputs": [],
   "source": [
    "model = Sequential()\n",
    "\n",
    "model.add(Dense(19,activation='relu'))\n",
    "model.add(Dense(19,activation='relu'))\n",
    "model.add(Dense(19,activation='relu'))\n",
    "model.add(Dense(19,activation='relu'))\n",
    "model.add(Dense(1))\n",
    "\n",
    "model.compile(optimizer='adam',loss='mse')"
   ]
  },
  {
   "cell_type": "markdown",
   "metadata": {},
   "source": [
    "## Training the Model"
   ]
  },
  {
   "cell_type": "code",
   "execution_count": 46,
   "metadata": {},
   "outputs": [
    {
     "name": "stdout",
     "output_type": "stream",
     "text": [
      "Train on 15117 samples, validate on 6480 samples\n",
      "Epoch 1/400\n",
      "15117/15117 [==============================] - 1s 74us/sample - loss: 430228839929.3955 - val_loss: 418844493758.2617\n",
      "Epoch 2/400\n",
      "15117/15117 [==============================] - 0s 21us/sample - loss: 428253102583.9730 - val_loss: 411996069786.8642\n",
      "Epoch 3/400\n",
      "15117/15117 [==============================] - 0s 21us/sample - loss: 401401261499.3472 - val_loss: 351554389222.0839\n",
      "Epoch 4/400\n",
      "15117/15117 [==============================] - 0s 22us/sample - loss: 281418027052.1653 - val_loss: 178278463958.2815\n",
      "Epoch 5/400\n",
      "15117/15117 [==============================] - 0s 21us/sample - loss: 126127754575.5078 - val_loss: 95946680446.4198\n",
      "Epoch 6/400\n",
      "15117/15117 [==============================] - 0s 21us/sample - loss: 97670204498.9794 - val_loss: 93708013133.1160\n",
      "Epoch 7/400\n",
      "15117/15117 [==============================] - 0s 21us/sample - loss: 95694764310.6754 - val_loss: 91793937901.0370\n",
      "Epoch 8/400\n",
      "15117/15117 [==============================] - 0s 22us/sample - loss: 93689741109.3270 - val_loss: 89857905297.3827\n",
      "Epoch 9/400\n",
      "15117/15117 [==============================] - 0s 22us/sample - loss: 91635817511.3560 - val_loss: 87934673219.6346\n",
      "Epoch 10/400\n",
      "15117/15117 [==============================] - 0s 22us/sample - loss: 89535801523.7775 - val_loss: 85803332554.9037\n",
      "Epoch 11/400\n",
      "15117/15117 [==============================] - 0s 21us/sample - loss: 87283634784.2900 - val_loss: 83681318249.5605\n",
      "Epoch 12/400\n",
      "15117/15117 [==============================] - 0s 21us/sample - loss: 85022925439.9915 - val_loss: 81412781073.6988\n",
      "Epoch 13/400\n",
      "15117/15117 [==============================] - 0s 22us/sample - loss: 82568101639.9423 - val_loss: 78979434207.7630\n",
      "Epoch 14/400\n",
      "15117/15117 [==============================] - 0s 21us/sample - loss: 80077219260.5665 - val_loss: 76540276887.7037\n",
      "Epoch 15/400\n",
      "15117/15117 [==============================] - 0s 22us/sample - loss: 77474821257.4410 - val_loss: 74095891413.0173\n",
      "Epoch 16/400\n",
      "15117/15117 [==============================] - 0s 22us/sample - loss: 74774089413.9652 - val_loss: 71357971832.7309\n",
      "Epoch 17/400\n",
      "15117/15117 [==============================] - 0s 22us/sample - loss: 71900681480.7890 - val_loss: 68523643557.6099\n",
      "Epoch 18/400\n",
      "15117/15117 [==============================] - 0s 21us/sample - loss: 69060032166.1282 - val_loss: 65757134241.1852\n",
      "Epoch 19/400\n",
      "15117/15117 [==============================] - 0s 22us/sample - loss: 66191231616.5334 - val_loss: 63027780650.9827\n",
      "Epoch 20/400\n",
      "15117/15117 [==============================] - 0s 22us/sample - loss: 63504262918.5875 - val_loss: 60507224362.3506\n",
      "Epoch 21/400\n",
      "15117/15117 [==============================] - 0s 22us/sample - loss: 60906158188.5168 - val_loss: 58179581147.9704\n",
      "Epoch 22/400\n",
      "15117/15117 [==============================] - 0s 22us/sample - loss: 58539045201.0658 - val_loss: 55905987020.1679\n",
      "Epoch 23/400\n",
      "15117/15117 [==============================] - 0s 21us/sample - loss: 56432075444.4210 - val_loss: 54049592368.0395\n",
      "Epoch 24/400\n",
      "15117/15117 [==============================] - 0s 22us/sample - loss: 54632611178.7386 - val_loss: 52465146543.7235\n",
      "Epoch 25/400\n",
      "15117/15117 [==============================] - 0s 22us/sample - loss: 53126824761.4590 - val_loss: 51135728101.4519\n",
      "Epoch 26/400\n",
      "15117/15117 [==============================] - 0s 24us/sample - loss: 51864814219.1684 - val_loss: 49944739850.1136\n",
      "Epoch 27/400\n",
      "15117/15117 [==============================] - 0s 21us/sample - loss: 50710575426.4343 - val_loss: 49024109408.7111\n",
      "Epoch 28/400\n",
      "15117/15117 [==============================] - 0s 22us/sample - loss: 49790089720.4472 - val_loss: 48081969121.6593\n",
      "Epoch 29/400\n",
      "15117/15117 [==============================] - 0s 22us/sample - loss: 48938586745.9628 - val_loss: 47293310177.0272\n",
      "Epoch 30/400\n",
      "15117/15117 [==============================] - 0s 21us/sample - loss: 48160894199.4480 - val_loss: 46687785597.1556\n",
      "Epoch 31/400\n",
      "15117/15117 [==============================] - 0s 21us/sample - loss: 47419304940.1527 - val_loss: 46143225405.9457\n",
      "Epoch 32/400\n",
      "15117/15117 [==============================] - 0s 22us/sample - loss: 46818642769.7093 - val_loss: 45286553508.9778\n",
      "Epoch 33/400\n",
      "15117/15117 [==============================] - 0s 21us/sample - loss: 46195894640.6319 - val_loss: 44692921983.6840\n",
      "Epoch 34/400\n",
      "15117/15117 [==============================] - 0s 21us/sample - loss: 45639990424.3435 - val_loss: 44149171799.2296\n",
      "Epoch 35/400\n",
      "15117/15117 [==============================] - 0s 21us/sample - loss: 45088736078.2886 - val_loss: 43640499682.9235\n",
      "Epoch 36/400\n",
      "15117/15117 [==============================] - 0s 22us/sample - loss: 44587020545.1346 - val_loss: 43270321710.7753\n",
      "Epoch 37/400\n",
      "15117/15117 [==============================] - 0s 21us/sample - loss: 44213398801.1886 - val_loss: 42809448604.7605\n",
      "Epoch 38/400\n",
      "15117/15117 [==============================] - 0s 21us/sample - loss: 43785412079.0993 - val_loss: 42292470260.6222\n",
      "Epoch 39/400\n",
      "15117/15117 [==============================] - 0s 21us/sample - loss: 43288563460.0135 - val_loss: 41911384256.1580\n",
      "Epoch 40/400\n",
      "15117/15117 [==============================] - 0s 21us/sample - loss: 42924182257.3855 - val_loss: 41556222730.7457\n",
      "Epoch 41/400\n",
      "15117/15117 [==============================] - 0s 21us/sample - loss: 42569587997.9234 - val_loss: 41181035067.4173\n",
      "Epoch 42/400\n",
      "15117/15117 [==============================] - 0s 21us/sample - loss: 42201981495.9180 - val_loss: 40819566804.3852\n",
      "Epoch 43/400\n",
      "15117/15117 [==============================] - 0s 21us/sample - loss: 41868377432.0429 - val_loss: 40481813036.2469\n",
      "Epoch 44/400\n",
      "15117/15117 [==============================] - 0s 21us/sample - loss: 41512625763.5414 - val_loss: 40129587837.1556\n",
      "Epoch 45/400\n",
      "15117/15117 [==============================] - 0s 21us/sample - loss: 41174974899.9637 - val_loss: 39797088180.1481\n",
      "Epoch 46/400\n",
      "15117/15117 [==============================] - 0s 21us/sample - loss: 40874130504.4123 - val_loss: 39550489041.2247\n",
      "Epoch 47/400\n",
      "15117/15117 [==============================] - 0s 21us/sample - loss: 40555053533.0132 - val_loss: 39296954019.0815\n",
      "Epoch 48/400\n",
      "15117/15117 [==============================] - 0s 21us/sample - loss: 40350999775.4687 - val_loss: 38949144535.5457\n",
      "Epoch 49/400\n",
      "15117/15117 [==============================] - 0s 21us/sample - loss: 40003106503.1845 - val_loss: 38663992934.4000\n",
      "Epoch 50/400\n",
      "15117/15117 [==============================] - 0s 21us/sample - loss: 39803600182.3092 - val_loss: 38424183320.0198\n",
      "Epoch 51/400\n",
      "15117/15117 [==============================] - 0s 21us/sample - loss: 39546356698.9133 - val_loss: 38199120367.5654\n",
      "Epoch 52/400\n",
      "15117/15117 [==============================] - 0s 21us/sample - loss: 39308579993.8337 - val_loss: 38012268918.2025\n",
      "Epoch 53/400\n",
      "15117/15117 [==============================] - 0s 21us/sample - loss: 39091661665.5601 - val_loss: 37769537409.5802\n",
      "Epoch 54/400\n",
      "15117/15117 [==============================] - 0s 21us/sample - loss: 38865917058.9382 - val_loss: 37563731179.1407\n",
      "Epoch 55/400\n",
      "15117/15117 [==============================] - 0s 21us/sample - loss: 38647192025.0843 - val_loss: 37475107791.9605\n",
      "Epoch 56/400\n",
      "15117/15117 [==============================] - 0s 21us/sample - loss: 38504728382.4039 - val_loss: 37141839406.7753\n",
      "Epoch 57/400\n",
      "15117/15117 [==============================] - 0s 21us/sample - loss: 38337395007.0474 - val_loss: 36920158956.4049\n",
      "Epoch 58/400\n",
      "15117/15117 [==============================] - 0s 21us/sample - loss: 38048829606.3653 - val_loss: 36852782057.2444\n",
      "Epoch 59/400\n",
      "15117/15117 [==============================] - 0s 21us/sample - loss: 37821736759.6978 - val_loss: 36506334923.5358\n",
      "Epoch 60/400\n",
      "15117/15117 [==============================] - 0s 22us/sample - loss: 37618945264.6742 - val_loss: 36300398152.0593\n",
      "Epoch 61/400\n",
      "15117/15117 [==============================] - 0s 21us/sample - loss: 37416369332.9290 - val_loss: 36114133330.8049\n",
      "Epoch 62/400\n",
      "15117/15117 [==============================] - 0s 21us/sample - loss: 37216304841.3521 - val_loss: 35919686117.4519\n",
      "Epoch 63/400\n",
      "15117/15117 [==============================] - 0s 21us/sample - loss: 37050927629.2428 - val_loss: 35748762818.6864\n",
      "Epoch 64/400\n",
      "15117/15117 [==============================] - 0s 21us/sample - loss: 36880820001.9538 - val_loss: 35624340169.0074\n",
      "Epoch 65/400\n",
      "15117/15117 [==============================] - 0s 21us/sample - loss: 36712618988.4236 - val_loss: 35424033880.4938\n",
      "Epoch 66/400\n",
      "15117/15117 [==============================] - 0s 21us/sample - loss: 36562566667.3462 - val_loss: 35275084807.5852\n",
      "Epoch 67/400\n",
      "15117/15117 [==============================] - 0s 21us/sample - loss: 36416757107.4091 - val_loss: 35168686221.5901\n",
      "Epoch 68/400\n",
      "15117/15117 [==============================] - 0s 21us/sample - loss: 36309515476.2241 - val_loss: 35049352892.3654\n",
      "Epoch 69/400\n",
      "15117/15117 [==============================] - 0s 21us/sample - loss: 36176583651.8209 - val_loss: 34892475708.0494\n",
      "Epoch 70/400\n",
      "15117/15117 [==============================] - 0s 21us/sample - loss: 36047233231.0083 - val_loss: 34834151464.4543\n",
      "Epoch 71/400\n",
      "15117/15117 [==============================] - 0s 21us/sample - loss: 35979611205.4318 - val_loss: 34691492836.1877\n",
      "Epoch 72/400\n",
      "15117/15117 [==============================] - 0s 21us/sample - loss: 35841186749.2778 - val_loss: 34705474936.7309\n",
      "Epoch 73/400\n",
      "15117/15117 [==============================] - 0s 20us/sample - loss: 35753421906.7085 - val_loss: 34572411840.7901\n",
      "Epoch 74/400\n",
      "15117/15117 [==============================] - 0s 21us/sample - loss: 35658074771.2970 - val_loss: 34449621265.0667\n",
      "Epoch 75/400\n",
      "15117/15117 [==============================] - 0s 21us/sample - loss: 35548277847.7211 - val_loss: 34360673408.9482\n",
      "Epoch 76/400\n",
      "15117/15117 [==============================] - 0s 21us/sample - loss: 35441159787.6700 - val_loss: 34436096429.8272\n",
      "Epoch 77/400\n",
      "15117/15117 [==============================] - 0s 20us/sample - loss: 35347639784.5964 - val_loss: 34315904073.3235\n",
      "Epoch 78/400\n",
      "15117/15117 [==============================] - 0s 21us/sample - loss: 35337726217.6696 - val_loss: 34076715291.1802\n",
      "Epoch 79/400\n",
      "15117/15117 [==============================] - 0s 21us/sample - loss: 35193974691.6049 - val_loss: 33991641391.4074\n",
      "Epoch 80/400\n",
      "15117/15117 [==============================] - 0s 21us/sample - loss: 35144700979.8875 - val_loss: 33984078501.6099\n",
      "Epoch 81/400\n",
      "15117/15117 [==============================] - 0s 20us/sample - loss: 35052084401.0679 - val_loss: 33826086375.9802\n",
      "Epoch 82/400\n",
      "15117/15117 [==============================] - 0s 21us/sample - loss: 34922510784.7663 - val_loss: 33773352995.3975\n",
      "Epoch 83/400\n",
      "15117/15117 [==============================] - 0s 21us/sample - loss: 34883612460.8597 - val_loss: 33663860376.9679\n",
      "Epoch 84/400\n",
      "15117/15117 [==============================] - 0s 21us/sample - loss: 34777303748.9491 - val_loss: 33711960256.1580\n",
      "Epoch 85/400\n",
      "15117/15117 [==============================] - 0s 21us/sample - loss: 34681915655.5020 - val_loss: 33532523719.7432\n",
      "Epoch 86/400\n",
      "15117/15117 [==============================] - 0s 21us/sample - loss: 34630842496.1609 - val_loss: 33420930146.6074\n",
      "Epoch 87/400\n",
      "15117/15117 [==============================] - 0s 21us/sample - loss: 34575667332.7671 - val_loss: 33397339588.5827\n",
      "Epoch 88/400\n",
      "15117/15117 [==============================] - 0s 20us/sample - loss: 34487058311.8322 - val_loss: 33419659087.0123\n",
      "Epoch 89/400\n",
      "15117/15117 [==============================] - 0s 21us/sample - loss: 34418930841.1563 - val_loss: 33193621059.0025\n",
      "Epoch 90/400\n",
      "15117/15117 [==============================] - 0s 20us/sample - loss: 34341739899.3345 - val_loss: 33162872250.4691\n",
      "Epoch 91/400\n",
      "15117/15117 [==============================] - 0s 21us/sample - loss: 34265285357.0502 - val_loss: 33059058877.6296\n",
      "Epoch 92/400\n",
      "15117/15117 [==============================] - 0s 20us/sample - loss: 34213807884.0066 - val_loss: 32999356087.3086\n",
      "Epoch 93/400\n",
      "15117/15117 [==============================] - 0s 21us/sample - loss: 34127808356.9809 - val_loss: 33008259542.2815\n",
      "Epoch 94/400\n",
      "15117/15117 [==============================] - 0s 20us/sample - loss: 34185498359.3803 - val_loss: 32870706047.0519\n",
      "Epoch 95/400\n",
      "15117/15117 [==============================] - 0s 21us/sample - loss: 34032621627.6097 - val_loss: 32794031961.1259\n",
      "Epoch 96/400\n",
      "15117/15117 [==============================] - 0s 20us/sample - loss: 34004523103.9174 - val_loss: 32730636515.5556\n",
      "Epoch 97/400\n",
      "15117/15117 [==============================] - 0s 21us/sample - loss: 33951007393.7252 - val_loss: 32671069090.4494\n",
      "Epoch 98/400\n",
      "15117/15117 [==============================] - 0s 21us/sample - loss: 33903540676.6612 - val_loss: 32612837022.0247\n",
      "Epoch 99/400\n",
      "15117/15117 [==============================] - 0s 21us/sample - loss: 33817706758.0118 - val_loss: 32551860704.3951\n",
      "Epoch 100/400\n",
      "15117/15117 [==============================] - 0s 21us/sample - loss: 33804105910.7918 - val_loss: 32561585240.4938\n",
      "Epoch 101/400\n",
      "15117/15117 [==============================] - 0s 21us/sample - loss: 33706486947.1816 - val_loss: 32442732569.2840\n",
      "Epoch 102/400\n",
      "15117/15117 [==============================] - 0s 21us/sample - loss: 33700914022.0308 - val_loss: 32584299446.6765\n",
      "Epoch 103/400\n",
      "15117/15117 [==============================] - 0s 21us/sample - loss: 33615164840.2450 - val_loss: 32387609572.1876\n",
      "Epoch 104/400\n",
      "15117/15117 [==============================] - 0s 21us/sample - loss: 33595770057.7924 - val_loss: 32297470179.5556\n",
      "Epoch 105/400\n",
      "15117/15117 [==============================] - 0s 21us/sample - loss: 33513281946.6296 - val_loss: 32239157627.2593\n",
      "Epoch 106/400\n",
      "15117/15117 [==============================] - 0s 21us/sample - loss: 33497742165.0962 - val_loss: 32211722588.9185\n",
      "Epoch 107/400\n",
      "15117/15117 [==============================] - 0s 21us/sample - loss: 33440326733.6958 - val_loss: 32191655551.6840\n",
      "Epoch 108/400\n",
      "15117/15117 [==============================] - 0s 20us/sample - loss: 33476012438.8363 - val_loss: 32098270084.1086\n",
      "Epoch 109/400\n",
      "15117/15117 [==============================] - 0s 20us/sample - loss: 33348445957.7747 - val_loss: 32138550608.2765\n",
      "Epoch 110/400\n",
      "15117/15117 [==============================] - 0s 21us/sample - loss: 33285269553.5844 - val_loss: 31967133038.6173\n",
      "Epoch 111/400\n",
      "15117/15117 [==============================] - 0s 21us/sample - loss: 33256673856.0466 - val_loss: 31924529915.5753\n",
      "Epoch 112/400\n",
      "15117/15117 [==============================] - 0s 21us/sample - loss: 33221220321.6532 - val_loss: 31872345085.4716\n",
      "Epoch 113/400\n",
      "15117/15117 [==============================] - 0s 20us/sample - loss: 33145046375.8936 - val_loss: 31801585077.4123\n",
      "Epoch 114/400\n",
      "15117/15117 [==============================] - 0s 21us/sample - loss: 33113250057.1277 - val_loss: 31759026641.2247\n",
      "Epoch 115/400\n",
      "15117/15117 [==============================] - 0s 21us/sample - loss: 33067858681.1076 - val_loss: 31701144866.7654\n",
      "Epoch 116/400\n",
      "15117/15117 [==============================] - 0s 21us/sample - loss: 33052466726.1705 - val_loss: 31666603435.2988\n",
      "Epoch 117/400\n",
      "15117/15117 [==============================] - 0s 21us/sample - loss: 32985794216.6345 - val_loss: 31593702296.3358\n",
      "Epoch 118/400\n",
      "15117/15117 [==============================] - 0s 21us/sample - loss: 32935764931.5097 - val_loss: 31616786978.1333\n",
      "Epoch 119/400\n",
      "15117/15117 [==============================] - 0s 21us/sample - loss: 32953545971.2483 - val_loss: 31546968195.4765\n",
      "Epoch 120/400\n",
      "15117/15117 [==============================] - 0s 21us/sample - loss: 32903644835.4187 - val_loss: 31460861415.9802\n",
      "Epoch 121/400\n",
      "15117/15117 [==============================] - 0s 21us/sample - loss: 32846519121.0320 - val_loss: 31430129441.5012\n",
      "Epoch 122/400\n",
      "15117/15117 [==============================] - 0s 21us/sample - loss: 32797648257.8374 - val_loss: 31511522609.9358\n",
      "Epoch 123/400\n",
      "15117/15117 [==============================] - 0s 22us/sample - loss: 32785782894.2780 - val_loss: 31330809542.4790\n",
      "Epoch 124/400\n",
      "15117/15117 [==============================] - 0s 21us/sample - loss: 32742197136.3673 - val_loss: 31292171934.0247\n",
      "Epoch 125/400\n",
      "15117/15117 [==============================] - 0s 21us/sample - loss: 32679486575.9714 - val_loss: 31360183015.3481\n",
      "Epoch 126/400\n",
      "15117/15117 [==============================] - 0s 22us/sample - loss: 32665544491.1662 - val_loss: 31325158382.3012\n",
      "Epoch 127/400\n"
     ]
    },
    {
     "name": "stdout",
     "output_type": "stream",
     "text": [
      "15117/15117 [==============================] - 0s 21us/sample - loss: 32665666133.9938 - val_loss: 31180875164.1284\n",
      "Epoch 128/400\n",
      "15117/15117 [==============================] - 0s 21us/sample - loss: 32611257821.4873 - val_loss: 31133322960.5926\n",
      "Epoch 129/400\n",
      "15117/15117 [==============================] - 0s 20us/sample - loss: 32587610780.3061 - val_loss: 31109388368.9086\n",
      "Epoch 130/400\n",
      "15117/15117 [==============================] - 0s 21us/sample - loss: 32532602761.3225 - val_loss: 31070066824.5333\n",
      "Epoch 131/400\n",
      "15117/15117 [==============================] - 0s 21us/sample - loss: 32522762140.2215 - val_loss: 31049869848.0198\n",
      "Epoch 132/400\n",
      "15117/15117 [==============================] - 0s 21us/sample - loss: 32456779739.7600 - val_loss: 30991022889.0864\n",
      "Epoch 133/400\n",
      "15117/15117 [==============================] - 0s 21us/sample - loss: 32441568509.6800 - val_loss: 31072597773.2741\n",
      "Epoch 134/400\n",
      "15117/15117 [==============================] - 0s 20us/sample - loss: 32410024930.5338 - val_loss: 30923977042.8049\n",
      "Epoch 135/400\n",
      "15117/15117 [==============================] - 0s 22us/sample - loss: 32373381598.0970 - val_loss: 31106466449.3827\n",
      "Epoch 136/400\n",
      "15117/15117 [==============================] - 0s 20us/sample - loss: 32391567954.6069 - val_loss: 30873971643.7333\n",
      "Epoch 137/400\n",
      "15117/15117 [==============================] - 0s 21us/sample - loss: 32323832762.9069 - val_loss: 30942663166.7358\n",
      "Epoch 138/400\n",
      "15117/15117 [==============================] - 0s 20us/sample - loss: 32277995932.5940 - val_loss: 30784417953.8173\n",
      "Epoch 139/400\n",
      "15117/15117 [==============================] - 0s 21us/sample - loss: 32249475932.0056 - val_loss: 30765444816.5926\n",
      "Epoch 140/400\n",
      "15117/15117 [==============================] - 0s 21us/sample - loss: 32225129977.9374 - val_loss: 30751292701.7086\n",
      "Epoch 141/400\n",
      "15117/15117 [==============================] - 0s 21us/sample - loss: 32194334550.3833 - val_loss: 30816072124.9975\n",
      "Epoch 142/400\n",
      "15117/15117 [==============================] - 0s 20us/sample - loss: 32173768600.6991 - val_loss: 30698781486.1432\n",
      "Epoch 143/400\n",
      "15117/15117 [==============================] - 0s 21us/sample - loss: 32128945267.8325 - val_loss: 30693258561.1062\n",
      "Epoch 144/400\n",
      "15117/15117 [==============================] - 0s 21us/sample - loss: 32158493131.8076 - val_loss: 30757081062.7160\n",
      "Epoch 145/400\n",
      "15117/15117 [==============================] - 0s 21us/sample - loss: 32097048814.0324 - val_loss: 30538142191.5654\n",
      "Epoch 146/400\n",
      "15117/15117 [==============================] - 0s 21us/sample - loss: 32059525950.7426 - val_loss: 30570873438.8148\n",
      "Epoch 147/400\n",
      "15117/15117 [==============================] - 0s 21us/sample - loss: 32024448380.1474 - val_loss: 30482793267.2000\n",
      "Epoch 148/400\n",
      "15117/15117 [==============================] - 0s 21us/sample - loss: 32003215567.8889 - val_loss: 30455961782.0444\n",
      "Epoch 149/400\n",
      "15117/15117 [==============================] - 0s 21us/sample - loss: 32005157370.1406 - val_loss: 30431831118.3802\n",
      "Epoch 150/400\n",
      "15117/15117 [==============================] - 0s 21us/sample - loss: 31974860172.0659 - val_loss: 30472054657.5802\n",
      "Epoch 151/400\n",
      "15117/15117 [==============================] - 0s 20us/sample - loss: 31954707363.6219 - val_loss: 30388862788.8988\n",
      "Epoch 152/400\n",
      "15117/15117 [==============================] - 0s 21us/sample - loss: 31950679089.3812 - val_loss: 30325949811.6741\n",
      "Epoch 153/400\n",
      "15117/15117 [==============================] - 0s 21us/sample - loss: 31897591536.2339 - val_loss: 30300390180.0296\n",
      "Epoch 154/400\n",
      "15117/15117 [==============================] - 0s 22us/sample - loss: 31899849673.4029 - val_loss: 30289528194.8444\n",
      "Epoch 155/400\n",
      "15117/15117 [==============================] - 0s 21us/sample - loss: 31845711953.0828 - val_loss: 30251870870.4395\n",
      "Epoch 156/400\n",
      "15117/15117 [==============================] - 0s 21us/sample - loss: 31876184495.0866 - val_loss: 30207857747.4370\n",
      "Epoch 157/400\n",
      "15117/15117 [==============================] - 0s 21us/sample - loss: 31814331372.0172 - val_loss: 30169528754.8839\n",
      "Epoch 158/400\n",
      "15117/15117 [==============================] - 0s 21us/sample - loss: 31756947650.5444 - val_loss: 30184910888.4543\n",
      "Epoch 159/400\n",
      "15117/15117 [==============================] - 0s 21us/sample - loss: 31815752828.7062 - val_loss: 30109431959.7037\n",
      "Epoch 160/400\n",
      "15117/15117 [==============================] - 0s 21us/sample - loss: 31758519257.2537 - val_loss: 30155989876.9383\n",
      "Epoch 161/400\n",
      "15117/15117 [==============================] - 0s 21us/sample - loss: 31703510471.8111 - val_loss: 30125336353.5012\n",
      "Epoch 162/400\n",
      "15117/15117 [==============================] - 0s 21us/sample - loss: 31792097788.3083 - val_loss: 30094702612.2272\n",
      "Epoch 163/400\n",
      "15117/15117 [==============================] - 0s 21us/sample - loss: 31719741491.6166 - val_loss: 30144415986.7259\n",
      "Epoch 164/400\n",
      "15117/15117 [==============================] - 0s 21us/sample - loss: 31657477211.7854 - val_loss: 30030396666.3111\n",
      "Epoch 165/400\n",
      "15117/15117 [==============================] - 0s 21us/sample - loss: 31667667597.9795 - val_loss: 29983700258.7654\n",
      "Epoch 166/400\n",
      "15117/15117 [==============================] - 0s 21us/sample - loss: 31621816226.2502 - val_loss: 29986278321.6198\n",
      "Epoch 167/400\n",
      "15117/15117 [==============================] - 0s 21us/sample - loss: 31592416694.0636 - val_loss: 29933102982.6370\n",
      "Epoch 168/400\n",
      "15117/15117 [==============================] - 0s 21us/sample - loss: 31631378629.5249 - val_loss: 29911025117.8667\n",
      "Epoch 169/400\n",
      "15117/15117 [==============================] - 0s 21us/sample - loss: 31588535913.9766 - val_loss: 29881444083.9901\n",
      "Epoch 170/400\n",
      "15117/15117 [==============================] - 0s 21us/sample - loss: 31528027214.0176 - val_loss: 29918719595.4568\n",
      "Epoch 171/400\n",
      "15117/15117 [==============================] - 0s 21us/sample - loss: 31604431565.2809 - val_loss: 29840465131.1407\n",
      "Epoch 172/400\n",
      "15117/15117 [==============================] - 0s 21us/sample - loss: 31507224686.0409 - val_loss: 29844873433.4420\n",
      "Epoch 173/400\n",
      "15117/15117 [==============================] - 0s 21us/sample - loss: 31475445635.5309 - val_loss: 29807877628.2074\n",
      "Epoch 174/400\n",
      "15117/15117 [==============================] - 0s 21us/sample - loss: 31470602922.5312 - val_loss: 29819753874.0148\n",
      "Epoch 175/400\n",
      "15117/15117 [==============================] - 0s 21us/sample - loss: 31464291369.1510 - val_loss: 29762116999.9012\n",
      "Epoch 176/400\n",
      "15117/15117 [==============================] - 0s 21us/sample - loss: 31435193803.1302 - val_loss: 29799121285.3728\n",
      "Epoch 177/400\n",
      "15117/15117 [==============================] - 0s 21us/sample - loss: 31428467062.0509 - val_loss: 29783143618.6864\n",
      "Epoch 178/400\n",
      "15117/15117 [==============================] - 0s 21us/sample - loss: 31485118067.5954 - val_loss: 29694473703.9802\n",
      "Epoch 179/400\n",
      "15117/15117 [==============================] - 0s 21us/sample - loss: 31426361437.0724 - val_loss: 29727682984.7704\n",
      "Epoch 180/400\n",
      "15117/15117 [==============================] - 0s 21us/sample - loss: 31355109369.4971 - val_loss: 29649349781.1753\n",
      "Epoch 181/400\n",
      "15117/15117 [==============================] - 0s 21us/sample - loss: 31420042667.3610 - val_loss: 29679755977.0074\n",
      "Epoch 182/400\n",
      "15117/15117 [==============================] - 0s 21us/sample - loss: 31384057633.0055 - val_loss: 29598786102.3605\n",
      "Epoch 183/400\n",
      "15117/15117 [==============================] - 0s 21us/sample - loss: 31302243449.1161 - val_loss: 29617661643.5358\n",
      "Epoch 184/400\n",
      "15117/15117 [==============================] - 0s 22us/sample - loss: 31276944573.7350 - val_loss: 29534723190.8346\n",
      "Epoch 185/400\n",
      "15117/15117 [==============================] - 0s 22us/sample - loss: 31298470868.8507 - val_loss: 29512316103.7432\n",
      "Epoch 186/400\n",
      "15117/15117 [==============================] - 0s 23us/sample - loss: 31255950960.2085 - val_loss: 29542643292.2864\n",
      "Epoch 187/400\n",
      "15117/15117 [==============================] - 0s 21us/sample - loss: 31258467328.7451 - val_loss: 29539539353.6000\n",
      "Epoch 188/400\n",
      "15117/15117 [==============================] - 0s 21us/sample - loss: 31226185949.1656 - val_loss: 29455823070.4988\n",
      "Epoch 189/400\n",
      "15117/15117 [==============================] - 0s 21us/sample - loss: 31248841364.9227 - val_loss: 29436677597.8667\n",
      "Epoch 190/400\n",
      "15117/15117 [==============================] - 0s 21us/sample - loss: 31202179473.8236 - val_loss: 29423283880.1383\n",
      "Epoch 191/400\n",
      "15117/15117 [==============================] - 0s 21us/sample - loss: 31195525478.6743 - val_loss: 29407829844.0691\n",
      "Epoch 192/400\n",
      "15117/15117 [==============================] - 0s 21us/sample - loss: 31178512401.8829 - val_loss: 29382930462.3407\n",
      "Epoch 193/400\n",
      "15117/15117 [==============================] - 0s 21us/sample - loss: 31128843055.7047 - val_loss: 29384788822.5975\n",
      "Epoch 194/400\n",
      "15117/15117 [==============================] - 0s 21us/sample - loss: 31141501392.4138 - val_loss: 29353663510.7556\n",
      "Epoch 195/400\n",
      "15117/15117 [==============================] - 0s 21us/sample - loss: 31147613546.8741 - val_loss: 29452765755.4173\n",
      "Epoch 196/400\n",
      "15117/15117 [==============================] - 0s 21us/sample - loss: 31109214285.4926 - val_loss: 29312990513.9358\n",
      "Epoch 197/400\n",
      "15117/15117 [==============================] - 0s 20us/sample - loss: 31101100750.5680 - val_loss: 29308753727.8420\n",
      "Epoch 198/400\n",
      "15117/15117 [==============================] - 0s 21us/sample - loss: 31097099023.8677 - val_loss: 29279697730.3704\n",
      "Epoch 199/400\n",
      "15117/15117 [==============================] - 0s 21us/sample - loss: 31092686059.2551 - val_loss: 29252823914.8247\n",
      "Epoch 200/400\n",
      "15117/15117 [==============================] - 0s 21us/sample - loss: 31086845463.6068 - val_loss: 29232591292.9975\n",
      "Epoch 201/400\n",
      "15117/15117 [==============================] - 0s 21us/sample - loss: 31033269757.7646 - val_loss: 29263431988.4642\n",
      "Epoch 202/400\n",
      "15117/15117 [==============================] - 0s 21us/sample - loss: 31044307790.7966 - val_loss: 29225032908.8000\n",
      "Epoch 203/400\n",
      "15117/15117 [==============================] - 0s 21us/sample - loss: 31004391901.0132 - val_loss: 29168080769.5802\n",
      "Epoch 204/400\n",
      "15117/15117 [==============================] - 0s 21us/sample - loss: 31022369946.2401 - val_loss: 29187948002.9235\n",
      "Epoch 205/400\n",
      "15117/15117 [==============================] - 0s 20us/sample - loss: 30980826693.3132 - val_loss: 29148995715.4765\n",
      "Epoch 206/400\n",
      "15117/15117 [==============================] - 0s 21us/sample - loss: 30974616788.4273 - val_loss: 29127734077.3136\n",
      "Epoch 207/400\n",
      "15117/15117 [==============================] - 0s 21us/sample - loss: 30948324676.9407 - val_loss: 29107207185.6988\n",
      "Epoch 208/400\n",
      "15117/15117 [==============================] - 0s 21us/sample - loss: 30949446530.4809 - val_loss: 29087626783.6049\n",
      "Epoch 209/400\n",
      "15117/15117 [==============================] - 0s 21us/sample - loss: 30946194022.7929 - val_loss: 29065152340.0691\n",
      "Epoch 210/400\n",
      "15117/15117 [==============================] - 0s 21us/sample - loss: 30993280050.7360 - val_loss: 29134767859.9901\n",
      "Epoch 211/400\n",
      "15117/15117 [==============================] - 0s 21us/sample - loss: 30875167564.6967 - val_loss: 29032678139.5753\n",
      "Epoch 212/400\n",
      "15117/15117 [==============================] - 0s 21us/sample - loss: 30896164196.1003 - val_loss: 29027320647.4272\n",
      "Epoch 213/400\n",
      "15117/15117 [==============================] - 0s 21us/sample - loss: 30872415784.8123 - val_loss: 29010369664.9481\n",
      "Epoch 214/400\n",
      "15117/15117 [==============================] - 0s 21us/sample - loss: 30909556275.9892 - val_loss: 28981107835.8914\n",
      "Epoch 215/400\n",
      "15117/15117 [==============================] - 0s 21us/sample - loss: 30822313792.7070 - val_loss: 29000425244.4444\n",
      "Epoch 216/400\n",
      "15117/15117 [==============================] - 0s 21us/sample - loss: 30828952434.9011 - val_loss: 29105238410.4296\n",
      "Epoch 217/400\n",
      "15117/15117 [==============================] - 0s 21us/sample - loss: 30834764001.2299 - val_loss: 28942939522.8444\n",
      "Epoch 218/400\n",
      "15117/15117 [==============================] - 0s 21us/sample - loss: 30797459474.6958 - val_loss: 28940266190.0642\n",
      "Epoch 219/400\n",
      "15117/15117 [==============================] - 0s 21us/sample - loss: 30803726403.4674 - val_loss: 28895711252.2272\n",
      "Epoch 220/400\n",
      "15117/15117 [==============================] - 0s 21us/sample - loss: 30793577038.6780 - val_loss: 28898992704.4741\n",
      "Epoch 221/400\n",
      "15117/15117 [==============================] - 0s 21us/sample - loss: 30781495196.0183 - val_loss: 28871861538.7654\n",
      "Epoch 222/400\n",
      "15117/15117 [==============================] - 0s 21us/sample - loss: 30763188334.5489 - val_loss: 28875691855.0123\n",
      "Epoch 223/400\n",
      "15117/15117 [==============================] - 0s 21us/sample - loss: 30771002777.0716 - val_loss: 28839191782.0840\n",
      "Epoch 224/400\n",
      "15117/15117 [==============================] - 0s 21us/sample - loss: 30742382173.3773 - val_loss: 28809615309.4321\n",
      "Epoch 225/400\n",
      "15117/15117 [==============================] - 0s 21us/sample - loss: 30727241050.0750 - val_loss: 28828452949.9654\n",
      "Epoch 226/400\n",
      "15117/15117 [==============================] - 0s 21us/sample - loss: 30756926904.2313 - val_loss: 28788216222.6568\n",
      "Epoch 227/400\n",
      "15117/15117 [==============================] - 0s 21us/sample - loss: 30754445419.5346 - val_loss: 28777845565.3136\n",
      "Epoch 228/400\n",
      "15117/15117 [==============================] - 0s 21us/sample - loss: 30713689355.4308 - val_loss: 28769709023.1309\n",
      "Epoch 229/400\n",
      "15117/15117 [==============================] - 0s 21us/sample - loss: 30679595895.5751 - val_loss: 28760714166.6765\n",
      "Epoch 230/400\n",
      "15117/15117 [==============================] - 0s 21us/sample - loss: 30668775287.1686 - val_loss: 28754835127.3086\n",
      "Epoch 231/400\n",
      "15117/15117 [==============================] - 0s 21us/sample - loss: 30676949385.2886 - val_loss: 28713617124.8198\n",
      "Epoch 232/400\n",
      "15117/15117 [==============================] - 0s 21us/sample - loss: 30639153734.6849 - val_loss: 28796918538.7457\n",
      "Epoch 233/400\n",
      "15117/15117 [==============================] - 0s 21us/sample - loss: 30603608732.7126 - val_loss: 28825209813.0173\n",
      "Epoch 234/400\n",
      "15117/15117 [==============================] - 0s 21us/sample - loss: 30616706172.0288 - val_loss: 28797904830.2617\n",
      "Epoch 235/400\n",
      "15117/15117 [==============================] - 0s 20us/sample - loss: 30586779503.2771 - val_loss: 28657335364.2667\n",
      "Epoch 236/400\n",
      "15117/15117 [==============================] - 0s 21us/sample - loss: 30616510291.6737 - val_loss: 28639300317.2346\n",
      "Epoch 237/400\n",
      "15117/15117 [==============================] - 0s 21us/sample - loss: 30598207418.4328 - val_loss: 28671894808.6519\n",
      "Epoch 238/400\n",
      "15117/15117 [==============================] - 0s 21us/sample - loss: 30613567489.2193 - val_loss: 28645224367.0914\n",
      "Epoch 239/400\n",
      "15117/15117 [==============================] - 0s 21us/sample - loss: 30569372253.7837 - val_loss: 28609587574.2025\n",
      "Epoch 240/400\n",
      "15117/15117 [==============================] - 0s 20us/sample - loss: 30562352645.7578 - val_loss: 28598006629.7679\n",
      "Epoch 241/400\n",
      "15117/15117 [==============================] - 0s 21us/sample - loss: 30592776810.9927 - val_loss: 28627856659.5951\n",
      "Epoch 242/400\n",
      "15117/15117 [==============================] - 0s 21us/sample - loss: 30573009543.7137 - val_loss: 28560138993.4617\n",
      "Epoch 243/400\n",
      "15117/15117 [==============================] - 0s 21us/sample - loss: 30572429535.6719 - val_loss: 28579805886.8938\n",
      "Epoch 244/400\n",
      "15117/15117 [==============================] - 0s 21us/sample - loss: 30523984201.7501 - val_loss: 28631391714.9235\n",
      "Epoch 245/400\n",
      "15117/15117 [==============================] - 0s 21us/sample - loss: 30503796852.7808 - val_loss: 28511883532.0099\n",
      "Epoch 246/400\n",
      "15117/15117 [==============================] - 0s 21us/sample - loss: 30491279715.5584 - val_loss: 28533345135.8815\n",
      "Epoch 247/400\n",
      "15117/15117 [==============================] - 0s 21us/sample - loss: 30481328750.6505 - val_loss: 28505214187.1407\n",
      "Epoch 248/400\n",
      "15117/15117 [==============================] - 0s 21us/sample - loss: 30448781527.8312 - val_loss: 28510119030.8346\n",
      "Epoch 249/400\n",
      "15117/15117 [==============================] - 0s 21us/sample - loss: 30475855072.5525 - val_loss: 28489196844.8790\n",
      "Epoch 250/400\n",
      "15117/15117 [==============================] - 0s 21us/sample - loss: 30470996883.6356 - val_loss: 28476531203.7926\n",
      "Epoch 251/400\n",
      "15117/15117 [==============================] - 0s 21us/sample - loss: 30524245087.3078 - val_loss: 28408291439.2494\n",
      "Epoch 252/400\n",
      "15117/15117 [==============================] - 0s 21us/sample - loss: 30497081468.9094 - val_loss: 28431063338.3506\n",
      "Epoch 253/400\n"
     ]
    },
    {
     "name": "stdout",
     "output_type": "stream",
     "text": [
      "15117/15117 [==============================] - 0s 21us/sample - loss: 30409109880.6250 - val_loss: 28668203351.8617\n",
      "Epoch 254/400\n",
      "15117/15117 [==============================] - 0s 21us/sample - loss: 30455913509.4593 - val_loss: 28813098750.1037\n",
      "Epoch 255/400\n",
      "15117/15117 [==============================] - 0s 21us/sample - loss: 30437949613.1391 - val_loss: 28386738110.2617\n",
      "Epoch 256/400\n",
      "15117/15117 [==============================] - 0s 21us/sample - loss: 30388506209.7040 - val_loss: 28367340799.3679\n",
      "Epoch 257/400\n",
      "15117/15117 [==============================] - 0s 20us/sample - loss: 30382620658.2491 - val_loss: 28331952921.9160\n",
      "Epoch 258/400\n",
      "15117/15117 [==============================] - 0s 21us/sample - loss: 30362880877.7530 - val_loss: 28368884743.5852\n",
      "Epoch 259/400\n",
      "15117/15117 [==============================] - 0s 21us/sample - loss: 30377130940.6004 - val_loss: 28326146690.2123\n",
      "Epoch 260/400\n",
      "15117/15117 [==============================] - 0s 21us/sample - loss: 30345498520.2249 - val_loss: 28332065668.1086\n",
      "Epoch 261/400\n",
      "15117/15117 [==============================] - 0s 21us/sample - loss: 30376726708.4549 - val_loss: 28311264693.4123\n",
      "Epoch 262/400\n",
      "15117/15117 [==============================] - 0s 21us/sample - loss: 30319028822.9421 - val_loss: 28337609088.3160\n",
      "Epoch 263/400\n",
      "15117/15117 [==============================] - 0s 21us/sample - loss: 30305479059.8558 - val_loss: 28268406566.5580\n",
      "Epoch 264/400\n",
      "15117/15117 [==============================] - 0s 20us/sample - loss: 30336763454.4886 - val_loss: 28264392248.8889\n",
      "Epoch 265/400\n",
      "15117/15117 [==============================] - 0s 20us/sample - loss: 30306931573.2042 - val_loss: 28258602386.0148\n",
      "Epoch 266/400\n",
      "15117/15117 [==============================] - 0s 21us/sample - loss: 30321354601.7564 - val_loss: 28605813762.5284\n",
      "Epoch 267/400\n",
      "15117/15117 [==============================] - 0s 21us/sample - loss: 30346732760.8303 - val_loss: 28204050295.4667\n",
      "Epoch 268/400\n",
      "15117/15117 [==============================] - 0s 20us/sample - loss: 30265630523.8299 - val_loss: 28235916735.5259\n",
      "Epoch 269/400\n",
      "15117/15117 [==============================] - 0s 21us/sample - loss: 30263905927.5105 - val_loss: 28254254866.3309\n",
      "Epoch 270/400\n",
      "15117/15117 [==============================] - 0s 21us/sample - loss: 30268811793.8490 - val_loss: 28212979049.5605\n",
      "Epoch 271/400\n",
      "15117/15117 [==============================] - 0s 21us/sample - loss: 30281957304.6716 - val_loss: 28182761406.2617\n",
      "Epoch 272/400\n",
      "15117/15117 [==============================] - 0s 21us/sample - loss: 30227018041.5606 - val_loss: 28137513152.1580\n",
      "Epoch 273/400\n",
      "15117/15117 [==============================] - 0s 20us/sample - loss: 30225612795.4615 - val_loss: 28156831400.1383\n",
      "Epoch 274/400\n",
      "15117/15117 [==============================] - 0s 21us/sample - loss: 30170969410.3666 - val_loss: 28086880827.4173\n",
      "Epoch 275/400\n",
      "15117/15117 [==============================] - 0s 21us/sample - loss: 30227229590.5315 - val_loss: 28105916759.8617\n",
      "Epoch 276/400\n",
      "15117/15117 [==============================] - 0s 21us/sample - loss: 30172039512.2461 - val_loss: 28138459085.4321\n",
      "Epoch 277/400\n",
      "15117/15117 [==============================] - 0s 21us/sample - loss: 30199218311.4766 - val_loss: 28161525931.9309\n",
      "Epoch 278/400\n",
      "15117/15117 [==============================] - 0s 21us/sample - loss: 30193479382.0869 - val_loss: 28095548266.8247\n",
      "Epoch 279/400\n",
      "15117/15117 [==============================] - 0s 21us/sample - loss: 30174439812.6824 - val_loss: 28067898410.9827\n",
      "Epoch 280/400\n",
      "15117/15117 [==============================] - 0s 21us/sample - loss: 30177048702.6706 - val_loss: 28043993022.2617\n",
      "Epoch 281/400\n",
      "15117/15117 [==============================] - 0s 21us/sample - loss: 30137030417.9676 - val_loss: 28066452118.4395\n",
      "Epoch 282/400\n",
      "15117/15117 [==============================] - 0s 21us/sample - loss: 30195531530.5164 - val_loss: 28083934084.1086\n",
      "Epoch 283/400\n",
      "15117/15117 [==============================] - 0s 21us/sample - loss: 30152977825.8776 - val_loss: 28029592735.2889\n",
      "Epoch 284/400\n",
      "15117/15117 [==============================] - 0s 20us/sample - loss: 30120971762.0798 - val_loss: 28060859172.0296\n",
      "Epoch 285/400\n",
      "15117/15117 [==============================] - 0s 21us/sample - loss: 30106215071.2189 - val_loss: 28029987903.2099\n",
      "Epoch 286/400\n",
      "15117/15117 [==============================] - 0s 21us/sample - loss: 30134220158.7214 - val_loss: 27968219181.5111\n",
      "Epoch 287/400\n",
      "15117/15117 [==============================] - 0s 21us/sample - loss: 30129380584.5456 - val_loss: 28032838259.0420\n",
      "Epoch 288/400\n",
      "15117/15117 [==============================] - 0s 21us/sample - loss: 30096401959.9995 - val_loss: 27925280889.3630\n",
      "Epoch 289/400\n",
      "15117/15117 [==============================] - 0s 21us/sample - loss: 30048374902.4066 - val_loss: 27932037109.8864\n",
      "Epoch 290/400\n",
      "15117/15117 [==============================] - 0s 21us/sample - loss: 30032263746.0787 - val_loss: 27988889160.0593\n",
      "Epoch 291/400\n",
      "15117/15117 [==============================] - 0s 20us/sample - loss: 30052078387.9722 - val_loss: 27898971750.4000\n",
      "Epoch 292/400\n",
      "15117/15117 [==============================] - 0s 21us/sample - loss: 30022717437.5614 - val_loss: 27998007832.0198\n",
      "Epoch 293/400\n",
      "15117/15117 [==============================] - 0s 21us/sample - loss: 30039274391.7507 - val_loss: 27903155136.7901\n",
      "Epoch 294/400\n",
      "15117/15117 [==============================] - 0s 21us/sample - loss: 30021704654.8897 - val_loss: 27869966098.3309\n",
      "Epoch 295/400\n",
      "15117/15117 [==============================] - 0s 21us/sample - loss: 30013712424.7785 - val_loss: 27843529401.8370\n",
      "Epoch 296/400\n",
      "15117/15117 [==============================] - 0s 21us/sample - loss: 29995477863.2501 - val_loss: 27831829638.0049\n",
      "Epoch 297/400\n",
      "15117/15117 [==============================] - 0s 22us/sample - loss: 29960879190.5018 - val_loss: 27817854455.1506\n",
      "Epoch 298/400\n",
      "15117/15117 [==============================] - 0s 21us/sample - loss: 30060262283.7949 - val_loss: 27795736560.8296\n",
      "Epoch 299/400\n",
      "15117/15117 [==============================] - 0s 21us/sample - loss: 29971933530.4137 - val_loss: 27825462385.7778\n",
      "Epoch 300/400\n",
      "15117/15117 [==============================] - 0s 21us/sample - loss: 29992740422.2108 - val_loss: 27788681246.3407\n",
      "Epoch 301/400\n",
      "15117/15117 [==============================] - 0s 21us/sample - loss: 29969317316.5596 - val_loss: 27783433992.2173\n",
      "Epoch 302/400\n",
      "15117/15117 [==============================] - 0s 20us/sample - loss: 29935413937.6098 - val_loss: 27876739254.0444\n",
      "Epoch 303/400\n",
      "15117/15117 [==============================] - 0s 21us/sample - loss: 29929290269.0936 - val_loss: 27897184119.4667\n",
      "Epoch 304/400\n",
      "15117/15117 [==============================] - 0s 21us/sample - loss: 29922399738.6148 - val_loss: 27711078961.3037\n",
      "Epoch 305/400\n",
      "15117/15117 [==============================] - 0s 20us/sample - loss: 29899649602.3497 - val_loss: 27707860157.6296\n",
      "Epoch 306/400\n",
      "15117/15117 [==============================] - 0s 21us/sample - loss: 29884798528.5207 - val_loss: 27760909314.5284\n",
      "Epoch 307/400\n",
      "15117/15117 [==============================] - 0s 21us/sample - loss: 29896601243.4255 - val_loss: 28160589864.4543\n",
      "Epoch 308/400\n",
      "15117/15117 [==============================] - 0s 21us/sample - loss: 29945896360.7869 - val_loss: 27684371766.9926\n",
      "Epoch 309/400\n",
      "15117/15117 [==============================] - 0s 21us/sample - loss: 29865386075.0403 - val_loss: 27657225901.1951\n",
      "Epoch 310/400\n",
      "15117/15117 [==============================] - 0s 21us/sample - loss: 29847182489.5627 - val_loss: 27705425095.7432\n",
      "Epoch 311/400\n",
      "15117/15117 [==============================] - 0s 21us/sample - loss: 29796281274.0263 - val_loss: 27658602627.4765\n",
      "Epoch 312/400\n",
      "15117/15117 [==============================] - 0s 21us/sample - loss: 29855190632.0122 - val_loss: 27616263302.0049\n",
      "Epoch 313/400\n",
      "15117/15117 [==============================] - 0s 21us/sample - loss: 29811240215.1496 - val_loss: 27583572438.2815\n",
      "Epoch 314/400\n",
      "15117/15117 [==============================] - 0s 21us/sample - loss: 29837676967.2967 - val_loss: 27598898375.7432\n",
      "Epoch 315/400\n",
      "15117/15117 [==============================] - 0s 21us/sample - loss: 29791851856.4562 - val_loss: 27768933848.8099\n",
      "Epoch 316/400\n",
      "15117/15117 [==============================] - 0s 21us/sample - loss: 29870868315.7007 - val_loss: 27618467748.9778\n",
      "Epoch 317/400\n",
      "15117/15117 [==============================] - 0s 21us/sample - loss: 29778084220.8248 - val_loss: 27675620258.4494\n",
      "Epoch 318/400\n",
      "15117/15117 [==============================] - 0s 21us/sample - loss: 29794443319.8841 - val_loss: 27497324629.9654\n",
      "Epoch 319/400\n",
      "15117/15117 [==============================] - 0s 20us/sample - loss: 29784195932.0056 - val_loss: 27518419343.4864\n",
      "Epoch 320/400\n",
      "15117/15117 [==============================] - 0s 21us/sample - loss: 29755178713.6093 - val_loss: 27547043491.0815\n",
      "Epoch 321/400\n",
      "15117/15117 [==============================] - 0s 20us/sample - loss: 29724225187.5541 - val_loss: 27494418775.8617\n",
      "Epoch 322/400\n",
      "15117/15117 [==============================] - 0s 20us/sample - loss: 29743166524.0161 - val_loss: 27541776874.5086\n",
      "Epoch 323/400\n",
      "15117/15117 [==============================] - 0s 21us/sample - loss: 29751371160.4620 - val_loss: 27468366036.3852\n",
      "Epoch 324/400\n",
      "15117/15117 [==============================] - 0s 20us/sample - loss: 29731360473.4738 - val_loss: 27445401645.5111\n",
      "Epoch 325/400\n",
      "15117/15117 [==============================] - 0s 21us/sample - loss: 29734817878.8066 - val_loss: 27454672860.6025\n",
      "Epoch 326/400\n",
      "15117/15117 [==============================] - 0s 21us/sample - loss: 29700766352.6552 - val_loss: 27421599182.6963\n",
      "Epoch 327/400\n",
      "15117/15117 [==============================] - 0s 21us/sample - loss: 29760668736.1482 - val_loss: 27427837173.2543\n",
      "Epoch 328/400\n",
      "15117/15117 [==============================] - 0s 21us/sample - loss: 29666157685.4582 - val_loss: 27524248684.7210\n",
      "Epoch 329/400\n",
      "15117/15117 [==============================] - 0s 20us/sample - loss: 29670395048.8716 - val_loss: 27406859787.3778\n",
      "Epoch 330/400\n",
      "15117/15117 [==============================] - 0s 21us/sample - loss: 29694277304.0111 - val_loss: 27359498725.4519\n",
      "Epoch 331/400\n",
      "15117/15117 [==============================] - 0s 20us/sample - loss: 29630715843.1710 - val_loss: 27371956830.8148\n",
      "Epoch 332/400\n",
      "15117/15117 [==============================] - 0s 21us/sample - loss: 29657801645.1899 - val_loss: 27356985763.7136\n",
      "Epoch 333/400\n",
      "15117/15117 [==============================] - 0s 21us/sample - loss: 29634708863.5343 - val_loss: 27314318707.6741\n",
      "Epoch 334/400\n",
      "15117/15117 [==============================] - 0s 21us/sample - loss: 29642153077.1195 - val_loss: 27305875279.0123\n",
      "Epoch 335/400\n",
      "15117/15117 [==============================] - 0s 21us/sample - loss: 29664858547.7944 - val_loss: 27338764682.4296\n",
      "Epoch 336/400\n",
      "15117/15117 [==============================] - 0s 21us/sample - loss: 29604521070.1086 - val_loss: 27289168883.3580\n",
      "Epoch 337/400\n",
      "15117/15117 [==============================] - 0s 21us/sample - loss: 29607786745.5479 - val_loss: 27274064620.4049\n",
      "Epoch 338/400\n",
      "15117/15117 [==============================] - 0s 21us/sample - loss: 29642364041.4410 - val_loss: 27421926018.2123\n",
      "Epoch 339/400\n",
      "15117/15117 [==============================] - 0s 21us/sample - loss: 29585030613.0878 - val_loss: 27247282873.8370\n",
      "Epoch 340/400\n",
      "15117/15117 [==============================] - 0s 21us/sample - loss: 29604991004.4501 - val_loss: 27267296400.1185\n",
      "Epoch 341/400\n",
      "15117/15117 [==============================] - 0s 21us/sample - loss: 29572105757.0259 - val_loss: 27279345401.0469\n",
      "Epoch 342/400\n",
      "15117/15117 [==============================] - 0s 21us/sample - loss: 29607948912.8859 - val_loss: 27331599347.3580\n",
      "Epoch 343/400\n",
      "15117/15117 [==============================] - 0s 21us/sample - loss: 29528826509.5392 - val_loss: 27237693799.0321\n",
      "Epoch 344/400\n",
      "15117/15117 [==============================] - 0s 22us/sample - loss: 29543922558.8230 - val_loss: 27252142256.9877\n",
      "Epoch 345/400\n",
      "15117/15117 [==============================] - 0s 21us/sample - loss: 29496695969.8268 - val_loss: 27170678480.5926\n",
      "Epoch 346/400\n",
      "15117/15117 [==============================] - 0s 21us/sample - loss: 29527761038.5383 - val_loss: 27347769075.9901\n",
      "Epoch 347/400\n",
      "15117/15117 [==============================] - 0s 22us/sample - loss: 29514069165.4778 - val_loss: 27181913120.8691\n",
      "Epoch 348/400\n",
      "15117/15117 [==============================] - 0s 21us/sample - loss: 29487799844.2061 - val_loss: 27173822959.5654\n",
      "Epoch 349/400\n",
      "15117/15117 [==============================] - 0s 21us/sample - loss: 29498710422.0234 - val_loss: 27161995223.5457\n",
      "Epoch 350/400\n",
      "15117/15117 [==============================] - 0s 21us/sample - loss: 29518893033.2399 - val_loss: 27143295238.9531\n",
      "Epoch 351/400\n",
      "15117/15117 [==============================] - 0s 21us/sample - loss: 29475824518.8162 - val_loss: 27132020028.0494\n",
      "Epoch 352/400\n",
      "15117/15117 [==============================] - 0s 21us/sample - loss: 29535830838.7495 - val_loss: 27094623618.8444\n",
      "Epoch 353/400\n",
      "15117/15117 [==============================] - 0s 21us/sample - loss: 29444820803.2133 - val_loss: 27085832748.2469\n",
      "Epoch 354/400\n",
      "15117/15117 [==============================] - 0s 21us/sample - loss: 29433551183.0337 - val_loss: 27077960018.8049\n",
      "Epoch 355/400\n",
      "15117/15117 [==============================] - 0s 20us/sample - loss: 29421949796.4051 - val_loss: 27116683041.5012\n",
      "Epoch 356/400\n",
      "15117/15117 [==============================] - 0s 21us/sample - loss: 29424317060.4623 - val_loss: 27006013470.3407\n",
      "Epoch 357/400\n",
      "15117/15117 [==============================] - 0s 21us/sample - loss: 29400388117.5069 - val_loss: 27001859580.2074\n",
      "Epoch 358/400\n",
      "15117/15117 [==============================] - 0s 20us/sample - loss: 29394842565.7451 - val_loss: 27149955051.7728\n",
      "Epoch 359/400\n",
      "15117/15117 [==============================] - 0s 21us/sample - loss: 29440848144.9854 - val_loss: 26988880327.1111\n",
      "Epoch 360/400\n",
      "15117/15117 [==============================] - 0s 21us/sample - loss: 29398464500.4845 - val_loss: 27030651001.3630\n",
      "Epoch 361/400\n",
      "15117/15117 [==============================] - 0s 21us/sample - loss: 29388269766.7442 - val_loss: 26936889551.3284\n",
      "Epoch 362/400\n",
      "15117/15117 [==============================] - 0s 21us/sample - loss: 29439582630.9580 - val_loss: 26922931698.0938\n",
      "Epoch 363/400\n",
      "15117/15117 [==============================] - 0s 21us/sample - loss: 29365713249.8649 - val_loss: 26933941655.0716\n",
      "Epoch 364/400\n",
      "15117/15117 [==============================] - 0s 21us/sample - loss: 29370666283.6065 - val_loss: 26897388981.4123\n",
      "Epoch 365/400\n",
      "15117/15117 [==============================] - 0s 21us/sample - loss: 29348309683.0662 - val_loss: 26903006261.0963\n",
      "Epoch 366/400\n",
      "15117/15117 [==============================] - 0s 21us/sample - loss: 29302246278.1388 - val_loss: 26873888778.1136\n",
      "Epoch 367/400\n",
      "15117/15117 [==============================] - 0s 21us/sample - loss: 29331551268.8666 - val_loss: 26883702222.6963\n",
      "Epoch 368/400\n",
      "15117/15117 [==============================] - 0s 21us/sample - loss: 29294597359.7259 - val_loss: 26838729755.8124\n",
      "Epoch 369/400\n",
      "15117/15117 [==============================] - 0s 21us/sample - loss: 29291727472.0053 - val_loss: 26830468846.9333\n",
      "Epoch 370/400\n",
      "15117/15117 [==============================] - 0s 21us/sample - loss: 29289779448.1932 - val_loss: 26823692171.6938\n",
      "Epoch 371/400\n",
      "15117/15117 [==============================] - 0s 20us/sample - loss: 29271343119.1734 - val_loss: 26808652913.7778\n",
      "Epoch 372/400\n",
      "15117/15117 [==============================] - 0s 21us/sample - loss: 29290624241.8935 - val_loss: 26796724036.8988\n",
      "Epoch 373/400\n",
      "15117/15117 [==============================] - 0s 21us/sample - loss: 29236387464.0524 - val_loss: 26882236628.3852\n",
      "Epoch 374/400\n",
      "15117/15117 [==============================] - 0s 21us/sample - loss: 29246908638.0462 - val_loss: 26771696005.3728\n",
      "Epoch 375/400\n",
      "15117/15117 [==============================] - 0s 21us/sample - loss: 29265771373.7530 - val_loss: 26753029678.7753\n",
      "Epoch 376/400\n",
      "15117/15117 [==============================] - 0s 21us/sample - loss: 29240093378.5106 - val_loss: 26728651485.2346\n",
      "Epoch 377/400\n",
      "15117/15117 [==============================] - 0s 21us/sample - loss: 29217670419.3562 - val_loss: 26738376410.7062\n",
      "Epoch 378/400\n",
      "15117/15117 [==============================] - 0s 21us/sample - loss: 29191010624.1990 - val_loss: 26710099780.8988\n",
      "Epoch 379/400\n"
     ]
    },
    {
     "name": "stdout",
     "output_type": "stream",
     "text": [
      "15117/15117 [==============================] - 0s 21us/sample - loss: 29184432503.5073 - val_loss: 26707127121.5407\n",
      "Epoch 380/400\n",
      "15117/15117 [==============================] - 0s 21us/sample - loss: 29192302663.5317 - val_loss: 26916886057.7185\n",
      "Epoch 381/400\n",
      "15117/15117 [==============================] - 0s 21us/sample - loss: 29209242404.8666 - val_loss: 26659705383.1901\n",
      "Epoch 382/400\n",
      "15117/15117 [==============================] - 0s 21us/sample - loss: 29177634422.7114 - val_loss: 26732598608.2765\n",
      "Epoch 383/400\n",
      "15117/15117 [==============================] - 0s 21us/sample - loss: 29162964032.4191 - val_loss: 26640063419.7333\n",
      "Epoch 384/400\n",
      "15117/15117 [==============================] - 0s 21us/sample - loss: 29135119725.1095 - val_loss: 26646387926.9136\n",
      "Epoch 385/400\n",
      "15117/15117 [==============================] - 0s 20us/sample - loss: 29150060664.3032 - val_loss: 26652868825.4420\n",
      "Epoch 386/400\n",
      "15117/15117 [==============================] - 0s 21us/sample - loss: 29143038606.3521 - val_loss: 26596768502.5185\n",
      "Epoch 387/400\n",
      "15117/15117 [==============================] - 0s 21us/sample - loss: 29118722316.0405 - val_loss: 26576863773.0765\n",
      "Epoch 388/400\n",
      "15117/15117 [==============================] - 0s 21us/sample - loss: 29089384966.1981 - val_loss: 26592547544.1778\n",
      "Epoch 389/400\n",
      "15117/15117 [==============================] - 0s 21us/sample - loss: 29076936087.1750 - val_loss: 26600181987.5556\n",
      "Epoch 390/400\n",
      "15117/15117 [==============================] - 0s 21us/sample - loss: 29123404092.2024 - val_loss: 26532399478.2025\n",
      "Epoch 391/400\n",
      "15117/15117 [==============================] - 0s 21us/sample - loss: 29054274687.1448 - val_loss: 26513930437.2148\n",
      "Epoch 392/400\n",
      "15117/15117 [==============================] - 0s 21us/sample - loss: 29039278850.3878 - val_loss: 26524046424.4938\n",
      "Epoch 393/400\n",
      "15117/15117 [==============================] - 0s 20us/sample - loss: 29079073939.3308 - val_loss: 26532857380.6617\n",
      "Epoch 394/400\n",
      "15117/15117 [==============================] - 0s 21us/sample - loss: 29029742853.0634 - val_loss: 26488879301.2148\n",
      "Epoch 395/400\n",
      "15117/15117 [==============================] - 0s 21us/sample - loss: 29040286477.8355 - val_loss: 26473552251.2593\n",
      "Epoch 396/400\n",
      "15117/15117 [==============================] - 0s 20us/sample - loss: 29001460647.4660 - val_loss: 26446682835.1210\n",
      "Epoch 397/400\n",
      "15117/15117 [==============================] - 0s 21us/sample - loss: 29004616625.1526 - val_loss: 26433716704.3951\n",
      "Epoch 398/400\n",
      "15117/15117 [==============================] - 0s 21us/sample - loss: 28968871267.4906 - val_loss: 26467667573.5704\n",
      "Epoch 399/400\n",
      "15117/15117 [==============================] - 0s 21us/sample - loss: 28968740961.6786 - val_loss: 26444118708.7802\n",
      "Epoch 400/400\n",
      "15117/15117 [==============================] - 0s 21us/sample - loss: 28970300100.3395 - val_loss: 26422263034.3111\n"
     ]
    },
    {
     "data": {
      "text/plain": [
       "<tensorflow.python.keras.callbacks.History at 0x27079bfe188>"
      ]
     },
     "execution_count": 46,
     "metadata": {},
     "output_type": "execute_result"
    }
   ],
   "source": [
    "model.fit(x=X_train,y=y_train.values,\n",
    "          validation_data=(X_test,y_test.values),\n",
    "          batch_size=128,epochs=400)"
   ]
  },
  {
   "cell_type": "code",
   "execution_count": 47,
   "metadata": {},
   "outputs": [],
   "source": [
    "losses = pd.DataFrame(model.history.history)"
   ]
  },
  {
   "cell_type": "code",
   "execution_count": 48,
   "metadata": {},
   "outputs": [
    {
     "data": {
      "text/plain": [
       "<matplotlib.axes._subplots.AxesSubplot at 0x2707c650b88>"
      ]
     },
     "execution_count": 48,
     "metadata": {},
     "output_type": "execute_result"
    },
    {
     "data": {
      "image/png": "[encoded data removed]",
      "text/plain": [
       "<Figure size 432x288 with 1 Axes>"
      ]
     },
     "metadata": {
      "needs_background": "light"
     },
     "output_type": "display_data"
    }
   ],
   "source": [
    "losses.plot()"
   ]
  },
  {
   "cell_type": "code",
   "execution_count": 49,
   "metadata": {},
   "outputs": [],
   "source": [
    "from sklearn.metrics import mean_squared_error,mean_absolute_error,explained_variance_score"
   ]
  },
  {
   "cell_type": "markdown",
   "metadata": {},
   "source": [
    "#### Predicting New Data"
   ]
  },
  {
   "cell_type": "code",
   "execution_count": 50,
   "metadata": {},
   "outputs": [
    {
     "data": {
      "text/plain": [
       "array([[0.1       , 0.08      , 0.04239917, ..., 0.00887725, 0.63636364,\n",
       "        0.        ],\n",
       "       [0.3       , 0.36      , 0.17269907, ..., 0.00993734, 0.81818182,\n",
       "        0.        ],\n",
       "       [0.2       , 0.24      , 0.12512927, ..., 0.00547073, 0.90909091,\n",
       "        0.        ],\n",
       "       ...,\n",
       "       [0.1       , 0.08      , 0.05584281, ..., 0.00506255, 1.        ,\n",
       "        0.        ],\n",
       "       [0.3       , 0.2       , 0.22233713, ..., 0.00774485, 0.09090909,\n",
       "        1.        ],\n",
       "       [0.3       , 0.32      , 0.27611169, ..., 0.0196531 , 0.45454545,\n",
       "        0.        ]])"
      ]
     },
     "execution_count": 50,
     "metadata": {},
     "output_type": "execute_result"
    }
   ],
   "source": [
    "X_test"
   ]
  },
  {
   "cell_type": "code",
   "execution_count": 51,
   "metadata": {},
   "outputs": [],
   "source": [
    "predictions = model.predict(X_test)"
   ]
  },
  {
   "cell_type": "code",
   "execution_count": 52,
   "metadata": {},
   "outputs": [
    {
     "data": {
      "text/plain": [
       "101666.74811137635"
      ]
     },
     "execution_count": 52,
     "metadata": {},
     "output_type": "execute_result"
    }
   ],
   "source": [
    "mean_absolute_error(y_test,predictions)"
   ]
  },
  {
   "cell_type": "code",
   "execution_count": 53,
   "metadata": {},
   "outputs": [
    {
     "data": {
      "text/plain": [
       "162549.26352210157"
      ]
     },
     "execution_count": 53,
     "metadata": {},
     "output_type": "execute_result"
    }
   ],
   "source": [
    "np.sqrt(mean_squared_error(y_test,predictions))"
   ]
  },
  {
   "cell_type": "code",
   "execution_count": 54,
   "metadata": {},
   "outputs": [
    {
     "data": {
      "text/plain": [
       "0.8009472831860807"
      ]
     },
     "execution_count": 54,
     "metadata": {},
     "output_type": "execute_result"
    }
   ],
   "source": [
    "explained_variance_score(y_test,predictions)"
   ]
  },
  {
   "cell_type": "code",
   "execution_count": 57,
   "metadata": {},
   "outputs": [
    {
     "data": {
      "text/plain": [
       "[<matplotlib.lines.Line2D at 0x2707a07fe08>]"
      ]
     },
     "execution_count": 57,
     "metadata": {},
     "output_type": "execute_result"
    },
    {
     "data": {
      "image/png": "[encoded data removed]",
      "text/plain": [
       "<Figure size 432x288 with 1 Axes>"
      ]
     },
     "metadata": {
      "needs_background": "light"
     },
     "output_type": "display_data"
    }
   ],
   "source": [
    "# Our predictions\n",
    "plt.scatter(y_test,predictions)\n",
    "\n",
    "# Perfect predictions\n",
    "plt.plot(y_test,y_test,'r')"
   ]
  },
  {
   "cell_type": "code",
   "execution_count": 58,
   "metadata": {},
   "outputs": [],
   "source": [
    "errors = y_test.values.reshape(6480, 1) - predictions"
   ]
  }
 ],
 "metadata": {
  "kernelspec": {
   "display_name": "Python 3",
   "language": "python",
   "name": "python3"
  },
  "language_info": {
   "codemirror_mode": {
    "name": "ipython",
    "version": 3
   },
   "file_extension": ".py",
   "mimetype": "text/x-python",
   "name": "python",
   "nbconvert_exporter": "python",
   "pygments_lexer": "ipython3",
   "version": "3.7.4"
  }
 },
 "nbformat": 4,
 "nbformat_minor": 2
}
